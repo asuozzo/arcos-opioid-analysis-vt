{
 "cells": [
  {
   "cell_type": "markdown",
   "metadata": {},
   "source": [
    "## Analysis of ARCOS DEA Database - Vermont Data\n",
    "\n",
    "This dataset comes from the *Washington Post*'s cleaned version of opioid transactions from 2006 to 2012 from the ARCOS database, a DEA system designed to monitor sales and purchases of controlled substances. [Downloads are available here](https://www.washingtonpost.com/graphics/2019/investigations/dea-pain-pill-database/). They've compiled some [caveats and information about the dataset here](https://www.washingtonpost.com/national/2019/07/18/how-download-use-dea-pain-pills-database/). You can find additional information on data entry and field definitions in [this 1997 ARCOS handbook](https://www.deadiversion.usdoj.gov/arcos/handbook/full.pdf), which also includes some very helpful pointers on loading files onto magnetic diskettes.\n",
    "\n",
    "Information on controlled substance transactions is entered by a **reporter**, which is typically a distributor or manufacturer. The **reporter** must catalog information on the **buyer** and the **product** — specifically, quantity and type of substance. The *Washington Post* did not include data on opioids other than hydrocodone and oxycodone, as those are both the bulk of opioids sold during that period and also the ones that were most commonly diverted.\n",
    "\n",
    "This file contains the analysis for the *Seven Days* story \"[Data Dive: As Opioid Crisis Ramped Up, Pills Flowed Into Vermont by the Millions](https://www.sevendaysvt.com/OffMessage/archives/2019/07/19/data-dive-as-opioid-crisis-ramped-up-pills-flowed-into-vermont-by-the-millions)\", published on July 19, 2019."
   ]
  },
  {
   "cell_type": "code",
   "execution_count": 1,
   "metadata": {},
   "outputs": [],
   "source": [
    "import pandas as pd\n",
    "\n",
    "# Set custom formats for displaying really big dataframes with really long numbers\n",
    "pd.set_option('display.max_columns', 500)\n",
    "pd.options.display.float_format = '{:,.2f}'.format\n",
    "\n",
    "import altair as alt"
   ]
  },
  {
   "cell_type": "markdown",
   "metadata": {},
   "source": [
    "Now, let's load in the data."
   ]
  },
  {
   "cell_type": "code",
   "execution_count": 2,
   "metadata": {},
   "outputs": [
    {
     "data": {
      "text/html": [
       "<div>\n",
       "<style scoped>\n",
       "    .dataframe tbody tr th:only-of-type {\n",
       "        vertical-align: middle;\n",
       "    }\n",
       "\n",
       "    .dataframe tbody tr th {\n",
       "        vertical-align: top;\n",
       "    }\n",
       "\n",
       "    .dataframe thead th {\n",
       "        text-align: right;\n",
       "    }\n",
       "</style>\n",
       "<table border=\"1\" class=\"dataframe\">\n",
       "  <thead>\n",
       "    <tr style=\"text-align: right;\">\n",
       "      <th></th>\n",
       "      <th>REPORTER_BUS_ACT</th>\n",
       "      <th>REPORTER_NAME</th>\n",
       "      <th>REPORTER_ADDL_CO_INFO</th>\n",
       "      <th>REPORTER_ADDRESS1</th>\n",
       "      <th>REPORTER_CITY</th>\n",
       "      <th>REPORTER_STATE</th>\n",
       "      <th>REPORTER_ZIP</th>\n",
       "      <th>REPORTER_COUNTY</th>\n",
       "      <th>BUYER_BUS_ACT</th>\n",
       "      <th>BUYER_NAME</th>\n",
       "      <th>BUYER_ADDL_CO_INFO</th>\n",
       "      <th>BUYER_ADDRESS1</th>\n",
       "      <th>BUYER_ADDRESS2</th>\n",
       "      <th>BUYER_CITY</th>\n",
       "      <th>BUYER_STATE</th>\n",
       "      <th>BUYER_ZIP</th>\n",
       "      <th>BUYER_COUNTY</th>\n",
       "      <th>TRANSACTION_CODE</th>\n",
       "      <th>DRUG_CODE</th>\n",
       "      <th>DRUG_NAME</th>\n",
       "      <th>QUANTITY</th>\n",
       "      <th>UNIT</th>\n",
       "      <th>ACTION_INDICATOR</th>\n",
       "      <th>CORRECTION_NO</th>\n",
       "      <th>STRENGTH</th>\n",
       "      <th>TRANSACTION_DATE</th>\n",
       "      <th>CALC_BASE_WT_IN_GM</th>\n",
       "      <th>DOSAGE_UNIT</th>\n",
       "      <th>Product_Name</th>\n",
       "      <th>Ingredient_Name</th>\n",
       "      <th>Measure</th>\n",
       "      <th>MME_Conversion_Factor</th>\n",
       "      <th>Combined_Labeler_Name</th>\n",
       "      <th>Revised_Company_Name</th>\n",
       "      <th>Reporter_family</th>\n",
       "      <th>dos_str</th>\n",
       "      <th>YEAR</th>\n",
       "    </tr>\n",
       "  </thead>\n",
       "  <tbody>\n",
       "    <tr>\n",
       "      <th>0</th>\n",
       "      <td>DISTRIBUTOR</td>\n",
       "      <td>KPH HEALTHCARE SERVICES, INC.</td>\n",
       "      <td>KINNEY DRUGS WAREHOUSE</td>\n",
       "      <td>520 EAST MAIN ST.</td>\n",
       "      <td>GOUVERNEUR</td>\n",
       "      <td>NY</td>\n",
       "      <td>13642</td>\n",
       "      <td>SAINT LAWRENCE</td>\n",
       "      <td>RETAIL PHARMACY</td>\n",
       "      <td>HEALTH AID INC</td>\n",
       "      <td>DBA JOHNSON PHARMACY</td>\n",
       "      <td>117 LOWER MAIN WEST</td>\n",
       "      <td>PO BOX 602</td>\n",
       "      <td>JOHNSON</td>\n",
       "      <td>VT</td>\n",
       "      <td>5656</td>\n",
       "      <td>LAMOILLE</td>\n",
       "      <td>S</td>\n",
       "      <td>9193</td>\n",
       "      <td>HYDROCODONE</td>\n",
       "      <td>1.00</td>\n",
       "      <td>nan</td>\n",
       "      <td>NaN</td>\n",
       "      <td>nan</td>\n",
       "      <td>0.00</td>\n",
       "      <td>2006-03-09</td>\n",
       "      <td>0.45</td>\n",
       "      <td>100.00</td>\n",
       "      <td>HYDROCODONE BIT. 7.5MG/ACETAMINOPHEN</td>\n",
       "      <td>HYDROCODONE BITARTRATE HEMIPENTAHYDRATE</td>\n",
       "      <td>TAB</td>\n",
       "      <td>1.00</td>\n",
       "      <td>Actavis Pharma, Inc.</td>\n",
       "      <td>Allergan, Inc.</td>\n",
       "      <td>KPH Healthcare Services, Inc.</td>\n",
       "      <td>7.50</td>\n",
       "      <td>2006</td>\n",
       "    </tr>\n",
       "    <tr>\n",
       "      <th>1</th>\n",
       "      <td>DISTRIBUTOR</td>\n",
       "      <td>KPH HEALTHCARE SERVICES, INC.</td>\n",
       "      <td>KINNEY DRUGS WAREHOUSE</td>\n",
       "      <td>520 EAST MAIN ST.</td>\n",
       "      <td>GOUVERNEUR</td>\n",
       "      <td>NY</td>\n",
       "      <td>13642</td>\n",
       "      <td>SAINT LAWRENCE</td>\n",
       "      <td>RETAIL PHARMACY</td>\n",
       "      <td>HEALTH AID INC</td>\n",
       "      <td>DBA JOHNSON PHARMACY</td>\n",
       "      <td>117 LOWER MAIN WEST</td>\n",
       "      <td>PO BOX 602</td>\n",
       "      <td>JOHNSON</td>\n",
       "      <td>VT</td>\n",
       "      <td>5656</td>\n",
       "      <td>LAMOILLE</td>\n",
       "      <td>S</td>\n",
       "      <td>9193</td>\n",
       "      <td>HYDROCODONE</td>\n",
       "      <td>1.00</td>\n",
       "      <td>nan</td>\n",
       "      <td>NaN</td>\n",
       "      <td>nan</td>\n",
       "      <td>0.00</td>\n",
       "      <td>2006-04-06</td>\n",
       "      <td>1.51</td>\n",
       "      <td>500.00</td>\n",
       "      <td>HYDROCODONE BIT 5MG/ACETAMINOPHEN 50</td>\n",
       "      <td>HYDROCODONE BITARTRATE HEMIPENTAHYDRATE</td>\n",
       "      <td>TAB</td>\n",
       "      <td>1.00</td>\n",
       "      <td>Actavis Pharma, Inc.</td>\n",
       "      <td>Allergan, Inc.</td>\n",
       "      <td>KPH Healthcare Services, Inc.</td>\n",
       "      <td>5.00</td>\n",
       "      <td>2006</td>\n",
       "    </tr>\n",
       "    <tr>\n",
       "      <th>2</th>\n",
       "      <td>DISTRIBUTOR</td>\n",
       "      <td>KPH HEALTHCARE SERVICES, INC.</td>\n",
       "      <td>KINNEY DRUGS WAREHOUSE</td>\n",
       "      <td>520 EAST MAIN ST.</td>\n",
       "      <td>GOUVERNEUR</td>\n",
       "      <td>NY</td>\n",
       "      <td>13642</td>\n",
       "      <td>SAINT LAWRENCE</td>\n",
       "      <td>CHAIN PHARMACY</td>\n",
       "      <td>KPH HEALTHCARE SERVICES, INC.</td>\n",
       "      <td>KINNEY DRUGS #18</td>\n",
       "      <td>164 SWANTON ROAD</td>\n",
       "      <td>NaN</td>\n",
       "      <td>ST ALBANS</td>\n",
       "      <td>VT</td>\n",
       "      <td>5478</td>\n",
       "      <td>FRANKLIN</td>\n",
       "      <td>S</td>\n",
       "      <td>9193</td>\n",
       "      <td>HYDROCODONE</td>\n",
       "      <td>2.00</td>\n",
       "      <td>nan</td>\n",
       "      <td>NaN</td>\n",
       "      <td>nan</td>\n",
       "      <td>0.00</td>\n",
       "      <td>2006-11-03</td>\n",
       "      <td>3.03</td>\n",
       "      <td>1,000.00</td>\n",
       "      <td>HYDROCODONE BIT 5MG/ACETAMINOPHEN 50</td>\n",
       "      <td>HYDROCODONE BITARTRATE HEMIPENTAHYDRATE</td>\n",
       "      <td>TAB</td>\n",
       "      <td>1.00</td>\n",
       "      <td>Actavis Pharma, Inc.</td>\n",
       "      <td>Allergan, Inc.</td>\n",
       "      <td>KPH Healthcare Services, Inc.</td>\n",
       "      <td>5.00</td>\n",
       "      <td>2006</td>\n",
       "    </tr>\n",
       "    <tr>\n",
       "      <th>3</th>\n",
       "      <td>DISTRIBUTOR</td>\n",
       "      <td>KPH HEALTHCARE SERVICES, INC.</td>\n",
       "      <td>KINNEY DRUGS WAREHOUSE</td>\n",
       "      <td>520 EAST MAIN ST.</td>\n",
       "      <td>GOUVERNEUR</td>\n",
       "      <td>NY</td>\n",
       "      <td>13642</td>\n",
       "      <td>SAINT LAWRENCE</td>\n",
       "      <td>CHAIN PHARMACY</td>\n",
       "      <td>KPH HEALTHCARE SERVICES, INC.</td>\n",
       "      <td>KINNEY DRUGS #18</td>\n",
       "      <td>164 SWANTON ROAD</td>\n",
       "      <td>NaN</td>\n",
       "      <td>ST ALBANS</td>\n",
       "      <td>VT</td>\n",
       "      <td>5478</td>\n",
       "      <td>FRANKLIN</td>\n",
       "      <td>S</td>\n",
       "      <td>9193</td>\n",
       "      <td>HYDROCODONE</td>\n",
       "      <td>1.00</td>\n",
       "      <td>nan</td>\n",
       "      <td>NaN</td>\n",
       "      <td>nan</td>\n",
       "      <td>0.00</td>\n",
       "      <td>2006-11-03</td>\n",
       "      <td>3.03</td>\n",
       "      <td>500.00</td>\n",
       "      <td>HYDROCODONE BITARTRATE 10MG/ACETAMIN</td>\n",
       "      <td>HYDROCODONE BITARTRATE HEMIPENTAHYDRATE</td>\n",
       "      <td>TAB</td>\n",
       "      <td>1.00</td>\n",
       "      <td>Actavis Pharma, Inc.</td>\n",
       "      <td>Allergan, Inc.</td>\n",
       "      <td>KPH Healthcare Services, Inc.</td>\n",
       "      <td>10.00</td>\n",
       "      <td>2006</td>\n",
       "    </tr>\n",
       "    <tr>\n",
       "      <th>4</th>\n",
       "      <td>DISTRIBUTOR</td>\n",
       "      <td>KPH HEALTHCARE SERVICES, INC.</td>\n",
       "      <td>KINNEY DRUGS WAREHOUSE</td>\n",
       "      <td>520 EAST MAIN ST.</td>\n",
       "      <td>GOUVERNEUR</td>\n",
       "      <td>NY</td>\n",
       "      <td>13642</td>\n",
       "      <td>SAINT LAWRENCE</td>\n",
       "      <td>CHAIN PHARMACY</td>\n",
       "      <td>KPH HEALTHCARE SERVICES, INC.</td>\n",
       "      <td>KINNEY DRUGS #18</td>\n",
       "      <td>164 SWANTON ROAD</td>\n",
       "      <td>NaN</td>\n",
       "      <td>ST ALBANS</td>\n",
       "      <td>VT</td>\n",
       "      <td>5478</td>\n",
       "      <td>FRANKLIN</td>\n",
       "      <td>S</td>\n",
       "      <td>9193</td>\n",
       "      <td>HYDROCODONE</td>\n",
       "      <td>5.00</td>\n",
       "      <td>nan</td>\n",
       "      <td>NaN</td>\n",
       "      <td>nan</td>\n",
       "      <td>0.00</td>\n",
       "      <td>2006-04-07</td>\n",
       "      <td>3.03</td>\n",
       "      <td>500.00</td>\n",
       "      <td>HYDROCODONE BIT. 10MG/ACETAMINOPHEN</td>\n",
       "      <td>HYDROCODONE BITARTRATE HEMIPENTAHYDRATE</td>\n",
       "      <td>TAB</td>\n",
       "      <td>1.00</td>\n",
       "      <td>Actavis Pharma, Inc.</td>\n",
       "      <td>Allergan, Inc.</td>\n",
       "      <td>KPH Healthcare Services, Inc.</td>\n",
       "      <td>10.00</td>\n",
       "      <td>2006</td>\n",
       "    </tr>\n",
       "  </tbody>\n",
       "</table>\n",
       "</div>"
      ],
      "text/plain": [
       "  REPORTER_BUS_ACT                  REPORTER_NAME   REPORTER_ADDL_CO_INFO  \\\n",
       "0      DISTRIBUTOR  KPH HEALTHCARE SERVICES, INC.  KINNEY DRUGS WAREHOUSE   \n",
       "1      DISTRIBUTOR  KPH HEALTHCARE SERVICES, INC.  KINNEY DRUGS WAREHOUSE   \n",
       "2      DISTRIBUTOR  KPH HEALTHCARE SERVICES, INC.  KINNEY DRUGS WAREHOUSE   \n",
       "3      DISTRIBUTOR  KPH HEALTHCARE SERVICES, INC.  KINNEY DRUGS WAREHOUSE   \n",
       "4      DISTRIBUTOR  KPH HEALTHCARE SERVICES, INC.  KINNEY DRUGS WAREHOUSE   \n",
       "\n",
       "   REPORTER_ADDRESS1 REPORTER_CITY REPORTER_STATE  REPORTER_ZIP  \\\n",
       "0  520 EAST MAIN ST.    GOUVERNEUR             NY         13642   \n",
       "1  520 EAST MAIN ST.    GOUVERNEUR             NY         13642   \n",
       "2  520 EAST MAIN ST.    GOUVERNEUR             NY         13642   \n",
       "3  520 EAST MAIN ST.    GOUVERNEUR             NY         13642   \n",
       "4  520 EAST MAIN ST.    GOUVERNEUR             NY         13642   \n",
       "\n",
       "  REPORTER_COUNTY    BUYER_BUS_ACT                     BUYER_NAME  \\\n",
       "0  SAINT LAWRENCE  RETAIL PHARMACY                 HEALTH AID INC   \n",
       "1  SAINT LAWRENCE  RETAIL PHARMACY                 HEALTH AID INC   \n",
       "2  SAINT LAWRENCE   CHAIN PHARMACY  KPH HEALTHCARE SERVICES, INC.   \n",
       "3  SAINT LAWRENCE   CHAIN PHARMACY  KPH HEALTHCARE SERVICES, INC.   \n",
       "4  SAINT LAWRENCE   CHAIN PHARMACY  KPH HEALTHCARE SERVICES, INC.   \n",
       "\n",
       "     BUYER_ADDL_CO_INFO       BUYER_ADDRESS1 BUYER_ADDRESS2 BUYER_CITY  \\\n",
       "0  DBA JOHNSON PHARMACY  117 LOWER MAIN WEST     PO BOX 602    JOHNSON   \n",
       "1  DBA JOHNSON PHARMACY  117 LOWER MAIN WEST     PO BOX 602    JOHNSON   \n",
       "2      KINNEY DRUGS #18     164 SWANTON ROAD            NaN  ST ALBANS   \n",
       "3      KINNEY DRUGS #18     164 SWANTON ROAD            NaN  ST ALBANS   \n",
       "4      KINNEY DRUGS #18     164 SWANTON ROAD            NaN  ST ALBANS   \n",
       "\n",
       "  BUYER_STATE  BUYER_ZIP BUYER_COUNTY TRANSACTION_CODE  DRUG_CODE  \\\n",
       "0          VT       5656     LAMOILLE                S       9193   \n",
       "1          VT       5656     LAMOILLE                S       9193   \n",
       "2          VT       5478     FRANKLIN                S       9193   \n",
       "3          VT       5478     FRANKLIN                S       9193   \n",
       "4          VT       5478     FRANKLIN                S       9193   \n",
       "\n",
       "     DRUG_NAME  QUANTITY  UNIT ACTION_INDICATOR  CORRECTION_NO  STRENGTH  \\\n",
       "0  HYDROCODONE      1.00   nan              NaN            nan      0.00   \n",
       "1  HYDROCODONE      1.00   nan              NaN            nan      0.00   \n",
       "2  HYDROCODONE      2.00   nan              NaN            nan      0.00   \n",
       "3  HYDROCODONE      1.00   nan              NaN            nan      0.00   \n",
       "4  HYDROCODONE      5.00   nan              NaN            nan      0.00   \n",
       "\n",
       "  TRANSACTION_DATE  CALC_BASE_WT_IN_GM  DOSAGE_UNIT  \\\n",
       "0       2006-03-09                0.45       100.00   \n",
       "1       2006-04-06                1.51       500.00   \n",
       "2       2006-11-03                3.03     1,000.00   \n",
       "3       2006-11-03                3.03       500.00   \n",
       "4       2006-04-07                3.03       500.00   \n",
       "\n",
       "                           Product_Name  \\\n",
       "0  HYDROCODONE BIT. 7.5MG/ACETAMINOPHEN   \n",
       "1  HYDROCODONE BIT 5MG/ACETAMINOPHEN 50   \n",
       "2  HYDROCODONE BIT 5MG/ACETAMINOPHEN 50   \n",
       "3  HYDROCODONE BITARTRATE 10MG/ACETAMIN   \n",
       "4   HYDROCODONE BIT. 10MG/ACETAMINOPHEN   \n",
       "\n",
       "                           Ingredient_Name Measure  MME_Conversion_Factor  \\\n",
       "0  HYDROCODONE BITARTRATE HEMIPENTAHYDRATE     TAB                   1.00   \n",
       "1  HYDROCODONE BITARTRATE HEMIPENTAHYDRATE     TAB                   1.00   \n",
       "2  HYDROCODONE BITARTRATE HEMIPENTAHYDRATE     TAB                   1.00   \n",
       "3  HYDROCODONE BITARTRATE HEMIPENTAHYDRATE     TAB                   1.00   \n",
       "4  HYDROCODONE BITARTRATE HEMIPENTAHYDRATE     TAB                   1.00   \n",
       "\n",
       "  Combined_Labeler_Name Revised_Company_Name                Reporter_family  \\\n",
       "0  Actavis Pharma, Inc.       Allergan, Inc.  KPH Healthcare Services, Inc.   \n",
       "1  Actavis Pharma, Inc.       Allergan, Inc.  KPH Healthcare Services, Inc.   \n",
       "2  Actavis Pharma, Inc.       Allergan, Inc.  KPH Healthcare Services, Inc.   \n",
       "3  Actavis Pharma, Inc.       Allergan, Inc.  KPH Healthcare Services, Inc.   \n",
       "4  Actavis Pharma, Inc.       Allergan, Inc.  KPH Healthcare Services, Inc.   \n",
       "\n",
       "   dos_str  YEAR  \n",
       "0     7.50  2006  \n",
       "1     5.00  2006  \n",
       "2     5.00  2006  \n",
       "3    10.00  2006  \n",
       "4    10.00  2006  "
      ]
     },
     "execution_count": 2,
     "metadata": {},
     "output_type": "execute_result"
    }
   ],
   "source": [
    "arcosvt_full = pd.read_csv(\"raw_data/arcos-vt-statewide-itemized.tsv\", sep='\\t')\n",
    "\n",
    "# drop some unnecessary columns\n",
    "arcosvt_full=arcosvt_full.drop([\"REPORTER_DEA_NO\",\"REPORTER_ADDRESS2\",\"BUYER_DEA_NO\",\"NDC_NO\",\"ORDER_FORM_NO\",\"TRANSACTION_ID\"],axis=1)\n",
    "\n",
    "arcosvt_full[\"TRANSACTION_DATE\"] = pd.to_datetime(arcosvt_full[\"TRANSACTION_DATE\"], format='%m%d%Y')\n",
    "arcosvt_full[\"YEAR\"] = (arcosvt_full[\"TRANSACTION_DATE\"].dt.year).astype(\"str\")\n",
    "\n",
    "# create a working dataset without HealthDirect outlier\n",
    "arcosvt = arcosvt_full[~arcosvt_full[\"BUYER_NAME\"].str.startswith(\"HEALTHDIRECT INSTITUTIONAL\")]\n",
    "\n",
    "# create a HealthDirect frame so we can look at those purchases independently\n",
    "healthdirect = arcosvt_full[arcosvt_full[\"BUYER_NAME\"].str.startswith(\"HEALTHDIRECT INSTITUTIONAL\")]\n",
    "\n",
    "arcosvt.head()"
   ]
  },
  {
   "cell_type": "markdown",
   "metadata": {},
   "source": [
    "HealthDirect is an institutional provider owned by the Kinney Drugs parent company. It runs pharmacy services for correctional facilities, elder care facilities, etc., and has offices in eight states. Because these pills aren't going to pharmacies, doctors or other point-of-sale locations — or necessarily even staying in Vermont — we're excluding it from the primary analysis.\n",
    "\n",
    "Let's take a look at the Vermont office's purchases over the seven-year period. Notice any outlier years?"
   ]
  },
  {
   "cell_type": "code",
   "execution_count": 3,
   "metadata": {},
   "outputs": [
    {
     "data": {
      "application/vnd.vegalite.v3+json": {
       "$schema": "https://vega.github.io/schema/vega-lite/v3.3.0.json",
       "config": {
        "mark": {
         "tooltip": null
        },
        "view": {
         "height": 300,
         "width": 400
        }
       },
       "data": {
        "name": "data-6cdac07a1a5be9ba5e959fa9b8ac9e82"
       },
       "datasets": {
        "data-6cdac07a1a5be9ba5e959fa9b8ac9e82": [
         {
          "DOSAGE_UNIT": 94300,
          "YEAR": "2006"
         },
         {
          "DOSAGE_UNIT": 72150,
          "YEAR": "2007"
         },
         {
          "DOSAGE_UNIT": 93460,
          "YEAR": "2008"
         },
         {
          "DOSAGE_UNIT": 3230900,
          "YEAR": "2009"
         },
         {
          "DOSAGE_UNIT": 117620,
          "YEAR": "2010"
         },
         {
          "DOSAGE_UNIT": 153600,
          "YEAR": "2011"
         },
         {
          "DOSAGE_UNIT": 171900,
          "YEAR": "2012"
         }
        ]
       },
       "layer": [
        {
         "encoding": {
          "x": {
           "field": "YEAR",
           "type": "ordinal"
          },
          "y": {
           "field": "DOSAGE_UNIT",
           "type": "quantitative"
          }
         },
         "mark": "bar",
         "width": 500
        },
        {
         "encoding": {
          "text": {
           "field": "DOSAGE_UNIT",
           "type": "quantitative"
          },
          "x": {
           "field": "YEAR",
           "type": "ordinal"
          },
          "y": {
           "field": "DOSAGE_UNIT",
           "type": "quantitative"
          }
         },
         "mark": {
          "align": "center",
          "baseline": "middle",
          "dy": -10,
          "type": "text"
         },
         "width": 500
        }
       ]
      },
      "image/png": "[encoded data removed]",
      "text/plain": [
       "<VegaLite 3 object>\n",
       "\n",
       "If you see this message, it means the renderer has not been properly enabled\n",
       "for the frontend that you are using. For more information, see\n",
       "https://altair-viz.github.io/user_guide/troubleshooting.html\n"
      ]
     },
     "execution_count": 3,
     "metadata": {},
     "output_type": "execute_result"
    }
   ],
   "source": [
    "healthdirect_annual = healthdirect[[\"YEAR\", \"DOSAGE_UNIT\"]].groupby(\"YEAR\").sum().reset_index()\n",
    "\n",
    "hd_bars = alt.Chart(healthdirect_annual).mark_bar().encode(\n",
    "    x=\"YEAR:O\",\n",
    "    y=\"DOSAGE_UNIT:Q\"\n",
    ").properties(\n",
    "    width=500\n",
    ")\n",
    "\n",
    "hd_text = hd_bars.mark_text(\n",
    "    align='center',\n",
    "    baseline='middle',\n",
    "    dy=-10\n",
    ").encode(\n",
    "    text='DOSAGE_UNIT:Q'\n",
    ")\n",
    "\n",
    "hd_bars + hd_text"
   ]
  },
  {
   "cell_type": "markdown",
   "metadata": {},
   "source": [
    "Let's take a quick look at the details of those purchases."
   ]
  },
  {
   "cell_type": "code",
   "execution_count": 4,
   "metadata": {},
   "outputs": [
    {
     "data": {
      "text/html": [
       "<div>\n",
       "<style scoped>\n",
       "    .dataframe tbody tr th:only-of-type {\n",
       "        vertical-align: middle;\n",
       "    }\n",
       "\n",
       "    .dataframe tbody tr th {\n",
       "        vertical-align: top;\n",
       "    }\n",
       "\n",
       "    .dataframe thead th {\n",
       "        text-align: right;\n",
       "    }\n",
       "</style>\n",
       "<table border=\"1\" class=\"dataframe\">\n",
       "  <thead>\n",
       "    <tr style=\"text-align: right;\">\n",
       "      <th></th>\n",
       "      <th>REPORTER_BUS_ACT</th>\n",
       "      <th>REPORTER_NAME</th>\n",
       "      <th>REPORTER_ADDL_CO_INFO</th>\n",
       "      <th>REPORTER_STATE</th>\n",
       "      <th>BUYER_NAME</th>\n",
       "      <th>DOSAGE_UNIT</th>\n",
       "      <th>BUYER_CITY</th>\n",
       "      <th>BUYER_STATE</th>\n",
       "      <th>QUANTITY</th>\n",
       "      <th>DRUG_NAME</th>\n",
       "      <th>Product_Name</th>\n",
       "      <th>Combined_Labeler_Name</th>\n",
       "      <th>Revised_Company_Name</th>\n",
       "      <th>TRANSACTION_DATE</th>\n",
       "    </tr>\n",
       "  </thead>\n",
       "  <tbody>\n",
       "    <tr>\n",
       "      <th>174350</th>\n",
       "      <td>DISTRIBUTOR</td>\n",
       "      <td>KPH HEALTHCARE SERVICES, INC.</td>\n",
       "      <td>KINNEY DRUGS WAREHOUSE</td>\n",
       "      <td>NY</td>\n",
       "      <td>HEALTHDIRECT INSTITUTIONAL PHARMACY SERVICES, ...</td>\n",
       "      <td>3,115,000.00</td>\n",
       "      <td>WILLISTON</td>\n",
       "      <td>VT</td>\n",
       "      <td>6,230.00</td>\n",
       "      <td>HYDROCODONE</td>\n",
       "      <td>HYDROCODONE BIT 5MG/ACETAMINOPHEN 50</td>\n",
       "      <td>Actavis Pharma, Inc.</td>\n",
       "      <td>Allergan, Inc.</td>\n",
       "      <td>2009-05-08</td>\n",
       "    </tr>\n",
       "    <tr>\n",
       "      <th>280552</th>\n",
       "      <td>DISTRIBUTOR</td>\n",
       "      <td>KPH HEALTHCARE SERVICES, INC.</td>\n",
       "      <td>KINNEY DRUGS WAREHOUSE</td>\n",
       "      <td>NY</td>\n",
       "      <td>HEALTHDIRECT INSTITUTIONAL PHARMACY SERVICES, ...</td>\n",
       "      <td>2,500.00</td>\n",
       "      <td>WILLISTON</td>\n",
       "      <td>VT</td>\n",
       "      <td>5.00</td>\n",
       "      <td>HYDROCODONE</td>\n",
       "      <td>HYDROCODONE BIT 5MG/ACETAMINOPHEN 50</td>\n",
       "      <td>Actavis Pharma, Inc.</td>\n",
       "      <td>Allergan, Inc.</td>\n",
       "      <td>2009-10-08</td>\n",
       "    </tr>\n",
       "    <tr>\n",
       "      <th>104571</th>\n",
       "      <td>DISTRIBUTOR</td>\n",
       "      <td>KPH HEALTHCARE SERVICES, INC.</td>\n",
       "      <td>KINNEY DRUGS WAREHOUSE</td>\n",
       "      <td>NY</td>\n",
       "      <td>HEALTHDIRECT INSTITUTIONAL PHARMACY SERVICES, ...</td>\n",
       "      <td>2,500.00</td>\n",
       "      <td>WILLISTON</td>\n",
       "      <td>VT</td>\n",
       "      <td>5.00</td>\n",
       "      <td>HYDROCODONE</td>\n",
       "      <td>HYDROCODONE BIT 5MG/ACETAMINOPHEN 50</td>\n",
       "      <td>Actavis Pharma, Inc.</td>\n",
       "      <td>Allergan, Inc.</td>\n",
       "      <td>2011-07-21</td>\n",
       "    </tr>\n",
       "    <tr>\n",
       "      <th>81670</th>\n",
       "      <td>DISTRIBUTOR</td>\n",
       "      <td>KPH HEALTHCARE SERVICES, INC.</td>\n",
       "      <td>KINNEY DRUGS WAREHOUSE</td>\n",
       "      <td>NY</td>\n",
       "      <td>HEALTHDIRECT INSTITUTIONAL PHARMACY SERVICES, ...</td>\n",
       "      <td>2,000.00</td>\n",
       "      <td>WILLISTON</td>\n",
       "      <td>VT</td>\n",
       "      <td>4.00</td>\n",
       "      <td>HYDROCODONE</td>\n",
       "      <td>HYDROCODONE BIT 5MG/ACETAMINOPHEN 50</td>\n",
       "      <td>Actavis Pharma, Inc.</td>\n",
       "      <td>Allergan, Inc.</td>\n",
       "      <td>2006-06-08</td>\n",
       "    </tr>\n",
       "    <tr>\n",
       "      <th>274600</th>\n",
       "      <td>DISTRIBUTOR</td>\n",
       "      <td>KPH HEALTHCARE SERVICES, INC.</td>\n",
       "      <td>KINNEY DRUGS WAREHOUSE</td>\n",
       "      <td>NY</td>\n",
       "      <td>HEALTHDIRECT INSTITUTIONAL PHARMACY SERVICES, ...</td>\n",
       "      <td>2,000.00</td>\n",
       "      <td>WILLISTON</td>\n",
       "      <td>VT</td>\n",
       "      <td>4.00</td>\n",
       "      <td>HYDROCODONE</td>\n",
       "      <td>HYDROCODONE BIT 5MG/ACETAMINOPHEN 50</td>\n",
       "      <td>Actavis Pharma, Inc.</td>\n",
       "      <td>Allergan, Inc.</td>\n",
       "      <td>2011-08-18</td>\n",
       "    </tr>\n",
       "  </tbody>\n",
       "</table>\n",
       "</div>"
      ],
      "text/plain": [
       "       REPORTER_BUS_ACT                  REPORTER_NAME  \\\n",
       "174350      DISTRIBUTOR  KPH HEALTHCARE SERVICES, INC.   \n",
       "280552      DISTRIBUTOR  KPH HEALTHCARE SERVICES, INC.   \n",
       "104571      DISTRIBUTOR  KPH HEALTHCARE SERVICES, INC.   \n",
       "81670       DISTRIBUTOR  KPH HEALTHCARE SERVICES, INC.   \n",
       "274600      DISTRIBUTOR  KPH HEALTHCARE SERVICES, INC.   \n",
       "\n",
       "         REPORTER_ADDL_CO_INFO REPORTER_STATE  \\\n",
       "174350  KINNEY DRUGS WAREHOUSE             NY   \n",
       "280552  KINNEY DRUGS WAREHOUSE             NY   \n",
       "104571  KINNEY DRUGS WAREHOUSE             NY   \n",
       "81670   KINNEY DRUGS WAREHOUSE             NY   \n",
       "274600  KINNEY DRUGS WAREHOUSE             NY   \n",
       "\n",
       "                                               BUYER_NAME  DOSAGE_UNIT  \\\n",
       "174350  HEALTHDIRECT INSTITUTIONAL PHARMACY SERVICES, ... 3,115,000.00   \n",
       "280552  HEALTHDIRECT INSTITUTIONAL PHARMACY SERVICES, ...     2,500.00   \n",
       "104571  HEALTHDIRECT INSTITUTIONAL PHARMACY SERVICES, ...     2,500.00   \n",
       "81670   HEALTHDIRECT INSTITUTIONAL PHARMACY SERVICES, ...     2,000.00   \n",
       "274600  HEALTHDIRECT INSTITUTIONAL PHARMACY SERVICES, ...     2,000.00   \n",
       "\n",
       "       BUYER_CITY BUYER_STATE  QUANTITY    DRUG_NAME  \\\n",
       "174350  WILLISTON          VT  6,230.00  HYDROCODONE   \n",
       "280552  WILLISTON          VT      5.00  HYDROCODONE   \n",
       "104571  WILLISTON          VT      5.00  HYDROCODONE   \n",
       "81670   WILLISTON          VT      4.00  HYDROCODONE   \n",
       "274600  WILLISTON          VT      4.00  HYDROCODONE   \n",
       "\n",
       "                                Product_Name Combined_Labeler_Name  \\\n",
       "174350  HYDROCODONE BIT 5MG/ACETAMINOPHEN 50  Actavis Pharma, Inc.   \n",
       "280552  HYDROCODONE BIT 5MG/ACETAMINOPHEN 50  Actavis Pharma, Inc.   \n",
       "104571  HYDROCODONE BIT 5MG/ACETAMINOPHEN 50  Actavis Pharma, Inc.   \n",
       "81670   HYDROCODONE BIT 5MG/ACETAMINOPHEN 50  Actavis Pharma, Inc.   \n",
       "274600  HYDROCODONE BIT 5MG/ACETAMINOPHEN 50  Actavis Pharma, Inc.   \n",
       "\n",
       "       Revised_Company_Name TRANSACTION_DATE  \n",
       "174350       Allergan, Inc.       2009-05-08  \n",
       "280552       Allergan, Inc.       2009-10-08  \n",
       "104571       Allergan, Inc.       2011-07-21  \n",
       "81670        Allergan, Inc.       2006-06-08  \n",
       "274600       Allergan, Inc.       2011-08-18  "
      ]
     },
     "execution_count": 4,
     "metadata": {},
     "output_type": "execute_result"
    }
   ],
   "source": [
    "healthdirect[[\n",
    "    \"REPORTER_BUS_ACT\",\"REPORTER_NAME\",\"REPORTER_ADDL_CO_INFO\",\"REPORTER_STATE\",\n",
    "    \"BUYER_NAME\",\"DOSAGE_UNIT\",\"BUYER_CITY\",\"BUYER_STATE\",\"QUANTITY\",\n",
    "    \"DRUG_NAME\",\"Product_Name\",\"Combined_Labeler_Name\",\"Revised_Company_Name\",\n",
    "    \"TRANSACTION_DATE\"\n",
    "]].sort_values(\"DOSAGE_UNIT\", ascending=False).head()"
   ]
  },
  {
   "cell_type": "markdown",
   "metadata": {},
   "source": [
    "Interesting. Now let's take a look at the rest of our Vermont data. For now, we just want the top-line numbers — excluding HealthDirect, how many pills were sold into the state between 2006 and 2012?"
   ]
  },
  {
   "cell_type": "code",
   "execution_count": 5,
   "metadata": {},
   "outputs": [
    {
     "data": {
      "text/plain": [
       "119480773.0"
      ]
     },
     "execution_count": 5,
     "metadata": {},
     "output_type": "execute_result"
    }
   ],
   "source": [
    "arcosvt[\"DOSAGE_UNIT\"].sum()"
   ]
  },
  {
   "cell_type": "markdown",
   "metadata": {},
   "source": [
    "What types of purchasers are in this dataset, and how many pills were they purchasing?"
   ]
  },
  {
   "cell_type": "code",
   "execution_count": 6,
   "metadata": {},
   "outputs": [
    {
     "data": {
      "text/html": [
       "<div>\n",
       "<style scoped>\n",
       "    .dataframe tbody tr th:only-of-type {\n",
       "        vertical-align: middle;\n",
       "    }\n",
       "\n",
       "    .dataframe tbody tr th {\n",
       "        vertical-align: top;\n",
       "    }\n",
       "\n",
       "    .dataframe thead th {\n",
       "        text-align: right;\n",
       "    }\n",
       "</style>\n",
       "<table border=\"1\" class=\"dataframe\">\n",
       "  <thead>\n",
       "    <tr style=\"text-align: right;\">\n",
       "      <th></th>\n",
       "      <th>BUYER_BUS_ACT</th>\n",
       "      <th>DOSAGE_UNIT</th>\n",
       "    </tr>\n",
       "  </thead>\n",
       "  <tbody>\n",
       "    <tr>\n",
       "      <th>0</th>\n",
       "      <td>CHAIN PHARMACY</td>\n",
       "      <td>79,928,180.00</td>\n",
       "    </tr>\n",
       "    <tr>\n",
       "      <th>5</th>\n",
       "      <td>RETAIL PHARMACY</td>\n",
       "      <td>39,083,788.00</td>\n",
       "    </tr>\n",
       "    <tr>\n",
       "      <th>2</th>\n",
       "      <td>PRACTITIONER-DW/100</td>\n",
       "      <td>248,200.00</td>\n",
       "    </tr>\n",
       "    <tr>\n",
       "      <th>1</th>\n",
       "      <td>PRACTITIONER</td>\n",
       "      <td>146,615.00</td>\n",
       "    </tr>\n",
       "    <tr>\n",
       "      <th>4</th>\n",
       "      <td>PRACTITIONER-DW/30</td>\n",
       "      <td>73,900.00</td>\n",
       "    </tr>\n",
       "    <tr>\n",
       "      <th>3</th>\n",
       "      <td>PRACTITIONER-DW/275</td>\n",
       "      <td>90.00</td>\n",
       "    </tr>\n",
       "  </tbody>\n",
       "</table>\n",
       "</div>"
      ],
      "text/plain": [
       "         BUYER_BUS_ACT   DOSAGE_UNIT\n",
       "0       CHAIN PHARMACY 79,928,180.00\n",
       "5      RETAIL PHARMACY 39,083,788.00\n",
       "2  PRACTITIONER-DW/100    248,200.00\n",
       "1         PRACTITIONER    146,615.00\n",
       "4   PRACTITIONER-DW/30     73,900.00\n",
       "3  PRACTITIONER-DW/275         90.00"
      ]
     },
     "execution_count": 6,
     "metadata": {},
     "output_type": "execute_result"
    }
   ],
   "source": [
    "arcosvt[[\n",
    "    \"BUYER_BUS_ACT\",\"DOSAGE_UNIT\"\n",
    "]].groupby(\"BUYER_BUS_ACT\").sum().reset_index().sort_values(\"DOSAGE_UNIT\", ascending=False)"
   ]
  },
  {
   "cell_type": "markdown",
   "metadata": {},
   "source": [
    "Who are those purchasers? (Optional: in cases where the `to_csv` line is commented out, just uncomment it to export a csv file with the full dataframe)"
   ]
  },
  {
   "cell_type": "code",
   "execution_count": 8,
   "metadata": {},
   "outputs": [
    {
     "data": {
      "text/html": [
       "<div>\n",
       "<style scoped>\n",
       "    .dataframe tbody tr th:only-of-type {\n",
       "        vertical-align: middle;\n",
       "    }\n",
       "\n",
       "    .dataframe tbody tr th {\n",
       "        vertical-align: top;\n",
       "    }\n",
       "\n",
       "    .dataframe thead th {\n",
       "        text-align: right;\n",
       "    }\n",
       "</style>\n",
       "<table border=\"1\" class=\"dataframe\">\n",
       "  <thead>\n",
       "    <tr style=\"text-align: right;\">\n",
       "      <th></th>\n",
       "      <th>BUYER_NAME</th>\n",
       "      <th>BUYER_CITY</th>\n",
       "      <th>DOSAGE_UNIT</th>\n",
       "    </tr>\n",
       "  </thead>\n",
       "  <tbody>\n",
       "    <tr>\n",
       "      <th>225</th>\n",
       "      <td>UNIVERSITY OF VERMONT MEDICAL CENTER</td>\n",
       "      <td>BURLINGTON</td>\n",
       "      <td>3,380,660.00</td>\n",
       "    </tr>\n",
       "    <tr>\n",
       "      <th>87</th>\n",
       "      <td>KPH HEALTHCARE SERVICES, INC.</td>\n",
       "      <td>ST ALBANS</td>\n",
       "      <td>2,784,600.00</td>\n",
       "    </tr>\n",
       "    <tr>\n",
       "      <th>70</th>\n",
       "      <td>KPH HEALTHCARE SERVICES, INC.</td>\n",
       "      <td>BARRE</td>\n",
       "      <td>2,752,830.00</td>\n",
       "    </tr>\n",
       "    <tr>\n",
       "      <th>81</th>\n",
       "      <td>KPH HEALTHCARE SERVICES, INC.</td>\n",
       "      <td>MORRISVILLE</td>\n",
       "      <td>2,693,360.00</td>\n",
       "    </tr>\n",
       "    <tr>\n",
       "      <th>211</th>\n",
       "      <td>SPRINGFIELD PHARMACY INC</td>\n",
       "      <td>SPRINGFIELD</td>\n",
       "      <td>2,355,790.00</td>\n",
       "    </tr>\n",
       "    <tr>\n",
       "      <th>224</th>\n",
       "      <td>UNITED DRUG STORES INC</td>\n",
       "      <td>SWANTON</td>\n",
       "      <td>2,337,960.00</td>\n",
       "    </tr>\n",
       "    <tr>\n",
       "      <th>220</th>\n",
       "      <td>THE PHARMACY INC</td>\n",
       "      <td>BENNINGTON</td>\n",
       "      <td>2,258,330.00</td>\n",
       "    </tr>\n",
       "    <tr>\n",
       "      <th>139</th>\n",
       "      <td>MAXI GREEN, INC.</td>\n",
       "      <td>SPRINGFIELD</td>\n",
       "      <td>2,136,060.00</td>\n",
       "    </tr>\n",
       "    <tr>\n",
       "      <th>140</th>\n",
       "      <td>MAXI GREEN, INC.</td>\n",
       "      <td>ST. ALBANS</td>\n",
       "      <td>2,073,000.00</td>\n",
       "    </tr>\n",
       "    <tr>\n",
       "      <th>80</th>\n",
       "      <td>KPH HEALTHCARE SERVICES, INC.</td>\n",
       "      <td>MILTON</td>\n",
       "      <td>2,027,990.00</td>\n",
       "    </tr>\n",
       "  </tbody>\n",
       "</table>\n",
       "</div>"
      ],
      "text/plain": [
       "                               BUYER_NAME   BUYER_CITY  DOSAGE_UNIT\n",
       "225  UNIVERSITY OF VERMONT MEDICAL CENTER   BURLINGTON 3,380,660.00\n",
       "87          KPH HEALTHCARE SERVICES, INC.    ST ALBANS 2,784,600.00\n",
       "70          KPH HEALTHCARE SERVICES, INC.        BARRE 2,752,830.00\n",
       "81          KPH HEALTHCARE SERVICES, INC.  MORRISVILLE 2,693,360.00\n",
       "211              SPRINGFIELD PHARMACY INC  SPRINGFIELD 2,355,790.00\n",
       "224                UNITED DRUG STORES INC      SWANTON 2,337,960.00\n",
       "220                      THE PHARMACY INC   BENNINGTON 2,258,330.00\n",
       "139                      MAXI GREEN, INC.  SPRINGFIELD 2,136,060.00\n",
       "140                      MAXI GREEN, INC.   ST. ALBANS 2,073,000.00\n",
       "80          KPH HEALTHCARE SERVICES, INC.       MILTON 2,027,990.00"
      ]
     },
     "execution_count": 8,
     "metadata": {},
     "output_type": "execute_result"
    }
   ],
   "source": [
    "buyers = arcosvt\n",
    "buyers[\"DOSAGE_UNIT\"].sum()\n",
    "buyers = buyers[[\n",
    "    \"BUYER_NAME\",\"BUYER_CITY\",\"DOSAGE_UNIT\"\n",
    "]].groupby([\"BUYER_NAME\",\"BUYER_CITY\"]).sum().reset_index().sort_values(\"DOSAGE_UNIT\",ascending=False)\n",
    "\n",
    "# buyers.to_csv(\"output/arcos-vt-buyers.csv\",index=False)\n",
    "buyers.head(10)"
   ]
  },
  {
   "cell_type": "markdown",
   "metadata": {},
   "source": [
    "What types of reporters (distributors and manufacturers) are in this dataset, and how many pills did they sell?"
   ]
  },
  {
   "cell_type": "code",
   "execution_count": 9,
   "metadata": {},
   "outputs": [
    {
     "data": {
      "text/html": [
       "<div>\n",
       "<style scoped>\n",
       "    .dataframe tbody tr th:only-of-type {\n",
       "        vertical-align: middle;\n",
       "    }\n",
       "\n",
       "    .dataframe tbody tr th {\n",
       "        vertical-align: top;\n",
       "    }\n",
       "\n",
       "    .dataframe thead th {\n",
       "        text-align: right;\n",
       "    }\n",
       "</style>\n",
       "<table border=\"1\" class=\"dataframe\">\n",
       "  <thead>\n",
       "    <tr style=\"text-align: right;\">\n",
       "      <th></th>\n",
       "      <th>REPORTER_BUS_ACT</th>\n",
       "      <th>DOSAGE_UNIT</th>\n",
       "    </tr>\n",
       "  </thead>\n",
       "  <tbody>\n",
       "    <tr>\n",
       "      <th>0</th>\n",
       "      <td>DISTRIBUTOR</td>\n",
       "      <td>119,466,805.00</td>\n",
       "    </tr>\n",
       "    <tr>\n",
       "      <th>1</th>\n",
       "      <td>MANUFACTURER</td>\n",
       "      <td>13,830.00</td>\n",
       "    </tr>\n",
       "    <tr>\n",
       "      <th>2</th>\n",
       "      <td>REVERSE DISTRIB</td>\n",
       "      <td>138.00</td>\n",
       "    </tr>\n",
       "  </tbody>\n",
       "</table>\n",
       "</div>"
      ],
      "text/plain": [
       "  REPORTER_BUS_ACT    DOSAGE_UNIT\n",
       "0      DISTRIBUTOR 119,466,805.00\n",
       "1     MANUFACTURER      13,830.00\n",
       "2  REVERSE DISTRIB         138.00"
      ]
     },
     "execution_count": 9,
     "metadata": {},
     "output_type": "execute_result"
    }
   ],
   "source": [
    "arcosvt[[\"REPORTER_BUS_ACT\",\"DOSAGE_UNIT\"]].groupby(\"REPORTER_BUS_ACT\").sum().reset_index()"
   ]
  },
  {
   "cell_type": "markdown",
   "metadata": {},
   "source": [
    "Who were the top distributors and manufacturers?"
   ]
  },
  {
   "cell_type": "code",
   "execution_count": 10,
   "metadata": {},
   "outputs": [
    {
     "data": {
      "text/html": [
       "<div>\n",
       "<style scoped>\n",
       "    .dataframe tbody tr th:only-of-type {\n",
       "        vertical-align: middle;\n",
       "    }\n",
       "\n",
       "    .dataframe tbody tr th {\n",
       "        vertical-align: top;\n",
       "    }\n",
       "\n",
       "    .dataframe thead th {\n",
       "        text-align: right;\n",
       "    }\n",
       "</style>\n",
       "<table border=\"1\" class=\"dataframe\">\n",
       "  <thead>\n",
       "    <tr style=\"text-align: right;\">\n",
       "      <th></th>\n",
       "      <th>REPORTER_BUS_ACT</th>\n",
       "      <th>Reporter_family</th>\n",
       "      <th>DOSAGE_UNIT</th>\n",
       "    </tr>\n",
       "  </thead>\n",
       "  <tbody>\n",
       "    <tr>\n",
       "      <th>32</th>\n",
       "      <td>DISTRIBUTOR</td>\n",
       "      <td>McKesson Corporation</td>\n",
       "      <td>40,000,100.00</td>\n",
       "    </tr>\n",
       "    <tr>\n",
       "      <th>13</th>\n",
       "      <td>DISTRIBUTOR</td>\n",
       "      <td>Cardinal Health</td>\n",
       "      <td>22,729,120.00</td>\n",
       "    </tr>\n",
       "    <tr>\n",
       "      <th>10</th>\n",
       "      <td>DISTRIBUTOR</td>\n",
       "      <td>Burlington Drug Company</td>\n",
       "      <td>15,119,800.00</td>\n",
       "    </tr>\n",
       "    <tr>\n",
       "      <th>29</th>\n",
       "      <td>DISTRIBUTOR</td>\n",
       "      <td>KPH Healthcare Services, Inc.</td>\n",
       "      <td>9,233,600.00</td>\n",
       "    </tr>\n",
       "    <tr>\n",
       "      <th>20</th>\n",
       "      <td>DISTRIBUTOR</td>\n",
       "      <td>Eckerd Corporation</td>\n",
       "      <td>7,034,930.00</td>\n",
       "    </tr>\n",
       "  </tbody>\n",
       "</table>\n",
       "</div>"
      ],
      "text/plain": [
       "   REPORTER_BUS_ACT                Reporter_family   DOSAGE_UNIT\n",
       "32      DISTRIBUTOR           McKesson Corporation 40,000,100.00\n",
       "13      DISTRIBUTOR                Cardinal Health 22,729,120.00\n",
       "10      DISTRIBUTOR        Burlington Drug Company 15,119,800.00\n",
       "29      DISTRIBUTOR  KPH Healthcare Services, Inc.  9,233,600.00\n",
       "20      DISTRIBUTOR             Eckerd Corporation  7,034,930.00"
      ]
     },
     "execution_count": 10,
     "metadata": {},
     "output_type": "execute_result"
    }
   ],
   "source": [
    "reporters = arcosvt[[\n",
    "    \"REPORTER_BUS_ACT\",\"Reporter_family\",\"DOSAGE_UNIT\"\n",
    "]].groupby([\"REPORTER_BUS_ACT\",\"Reporter_family\"]).sum().reset_index().sort_values(\n",
    "    \"DOSAGE_UNIT\", ascending=False\n",
    ")\n",
    "\n",
    "# reporters.to_csv(\"output/arcos-vt-reporters.csv\",index=False)\n",
    "reporters.head()"
   ]
  },
  {
   "cell_type": "markdown",
   "metadata": {},
   "source": [
    "Who manufactured the oxycodone/hydrocodone pills sold during those years? (Optional: uncomment the `to_csv` line to export a csv file with the full totals)"
   ]
  },
  {
   "cell_type": "code",
   "execution_count": 11,
   "metadata": {},
   "outputs": [
    {
     "data": {
      "text/html": [
       "<div>\n",
       "<style scoped>\n",
       "    .dataframe tbody tr th:only-of-type {\n",
       "        vertical-align: middle;\n",
       "    }\n",
       "\n",
       "    .dataframe tbody tr th {\n",
       "        vertical-align: top;\n",
       "    }\n",
       "\n",
       "    .dataframe thead th {\n",
       "        text-align: right;\n",
       "    }\n",
       "</style>\n",
       "<table border=\"1\" class=\"dataframe\">\n",
       "  <thead>\n",
       "    <tr style=\"text-align: right;\">\n",
       "      <th></th>\n",
       "      <th>Combined_Labeler_Name</th>\n",
       "      <th>DOSAGE_UNIT</th>\n",
       "    </tr>\n",
       "  </thead>\n",
       "  <tbody>\n",
       "    <tr>\n",
       "      <th>33</th>\n",
       "      <td>SpecGx LLC</td>\n",
       "      <td>48,974,100.00</td>\n",
       "    </tr>\n",
       "    <tr>\n",
       "      <th>3</th>\n",
       "      <td>Actavis Pharma, Inc.</td>\n",
       "      <td>28,232,978.00</td>\n",
       "    </tr>\n",
       "    <tr>\n",
       "      <th>29</th>\n",
       "      <td>Par Pharmaceutical</td>\n",
       "      <td>21,272,590.00</td>\n",
       "    </tr>\n",
       "    <tr>\n",
       "      <th>32</th>\n",
       "      <td>Purdue Pharma LP</td>\n",
       "      <td>6,045,380.00</td>\n",
       "    </tr>\n",
       "    <tr>\n",
       "      <th>8</th>\n",
       "      <td>Amneal Pharmaceuticals LLC</td>\n",
       "      <td>4,995,920.00</td>\n",
       "    </tr>\n",
       "  </tbody>\n",
       "</table>\n",
       "</div>"
      ],
      "text/plain": [
       "         Combined_Labeler_Name   DOSAGE_UNIT\n",
       "33                  SpecGx LLC 48,974,100.00\n",
       "3         Actavis Pharma, Inc. 28,232,978.00\n",
       "29          Par Pharmaceutical 21,272,590.00\n",
       "32            Purdue Pharma LP  6,045,380.00\n",
       "8   Amneal Pharmaceuticals LLC  4,995,920.00"
      ]
     },
     "execution_count": 11,
     "metadata": {},
     "output_type": "execute_result"
    }
   ],
   "source": [
    "manufacturers = arcosvt[[\n",
    "    \"Combined_Labeler_Name\",\"DOSAGE_UNIT\"\n",
    "]].groupby(\"Combined_Labeler_Name\").sum().reset_index().sort_values(\n",
    "    \"DOSAGE_UNIT\", ascending=False\n",
    ")\n",
    "\n",
    "# manufacturers.to_csv(\"output/arcos-vt-manufacturers.csv\", index=False)\n",
    "manufacturers.head()"
   ]
  },
  {
   "cell_type": "markdown",
   "metadata": {},
   "source": [
    "What companies own the top pill manufacturers selling pills into Vermont? (This is useful in cases where the labeler is a subsidiary and/or was acquired by another company)"
   ]
  },
  {
   "cell_type": "code",
   "execution_count": 12,
   "metadata": {},
   "outputs": [
    {
     "data": {
      "text/html": [
       "<div>\n",
       "<style scoped>\n",
       "    .dataframe tbody tr th:only-of-type {\n",
       "        vertical-align: middle;\n",
       "    }\n",
       "\n",
       "    .dataframe tbody tr th {\n",
       "        vertical-align: top;\n",
       "    }\n",
       "\n",
       "    .dataframe thead th {\n",
       "        text-align: right;\n",
       "    }\n",
       "</style>\n",
       "<table border=\"1\" class=\"dataframe\">\n",
       "  <thead>\n",
       "    <tr style=\"text-align: right;\">\n",
       "      <th></th>\n",
       "      <th>Revised_Company_Name</th>\n",
       "      <th>DOSAGE_UNIT</th>\n",
       "    </tr>\n",
       "  </thead>\n",
       "  <tbody>\n",
       "    <tr>\n",
       "      <th>24</th>\n",
       "      <td>Mallinckrodt</td>\n",
       "      <td>48,974,100.00</td>\n",
       "    </tr>\n",
       "    <tr>\n",
       "      <th>4</th>\n",
       "      <td>Allergan, Inc.</td>\n",
       "      <td>27,851,478.00</td>\n",
       "    </tr>\n",
       "    <tr>\n",
       "      <th>17</th>\n",
       "      <td>Endo Pharmaceuticals, Inc.</td>\n",
       "      <td>21,745,590.00</td>\n",
       "    </tr>\n",
       "    <tr>\n",
       "      <th>29</th>\n",
       "      <td>Purdue Pharma LP</td>\n",
       "      <td>6,434,680.00</td>\n",
       "    </tr>\n",
       "    <tr>\n",
       "      <th>8</th>\n",
       "      <td>Amneal Pharmaceuticals, Inc.</td>\n",
       "      <td>4,996,320.00</td>\n",
       "    </tr>\n",
       "  </tbody>\n",
       "</table>\n",
       "</div>"
      ],
      "text/plain": [
       "            Revised_Company_Name   DOSAGE_UNIT\n",
       "24                  Mallinckrodt 48,974,100.00\n",
       "4                 Allergan, Inc. 27,851,478.00\n",
       "17    Endo Pharmaceuticals, Inc. 21,745,590.00\n",
       "29              Purdue Pharma LP  6,434,680.00\n",
       "8   Amneal Pharmaceuticals, Inc.  4,996,320.00"
      ]
     },
     "execution_count": 12,
     "metadata": {},
     "output_type": "execute_result"
    }
   ],
   "source": [
    "arcosvt[[\n",
    "    \"Revised_Company_Name\",\"DOSAGE_UNIT\"\n",
    "]].groupby(\"Revised_Company_Name\").sum().reset_index().sort_values(\n",
    "    \"DOSAGE_UNIT\", ascending=False\n",
    ").head()"
   ]
  },
  {
   "cell_type": "markdown",
   "metadata": {},
   "source": [
    "Let's zoom out a bit. Statewide, what do total pill sales look like?"
   ]
  },
  {
   "cell_type": "code",
   "execution_count": 13,
   "metadata": {},
   "outputs": [
    {
     "data": {
      "text/html": [
       "<div>\n",
       "<style scoped>\n",
       "    .dataframe tbody tr th:only-of-type {\n",
       "        vertical-align: middle;\n",
       "    }\n",
       "\n",
       "    .dataframe tbody tr th {\n",
       "        vertical-align: top;\n",
       "    }\n",
       "\n",
       "    .dataframe thead th {\n",
       "        text-align: right;\n",
       "    }\n",
       "</style>\n",
       "<table border=\"1\" class=\"dataframe\">\n",
       "  <thead>\n",
       "    <tr style=\"text-align: right;\">\n",
       "      <th></th>\n",
       "      <th>YEAR</th>\n",
       "      <th>DOSAGE_UNIT</th>\n",
       "    </tr>\n",
       "  </thead>\n",
       "  <tbody>\n",
       "    <tr>\n",
       "      <th>0</th>\n",
       "      <td>2006</td>\n",
       "      <td>14,625,240.00</td>\n",
       "    </tr>\n",
       "    <tr>\n",
       "      <th>1</th>\n",
       "      <td>2007</td>\n",
       "      <td>16,421,740.00</td>\n",
       "    </tr>\n",
       "    <tr>\n",
       "      <th>2</th>\n",
       "      <td>2008</td>\n",
       "      <td>17,012,940.00</td>\n",
       "    </tr>\n",
       "    <tr>\n",
       "      <th>3</th>\n",
       "      <td>2009</td>\n",
       "      <td>17,552,265.00</td>\n",
       "    </tr>\n",
       "    <tr>\n",
       "      <th>4</th>\n",
       "      <td>2010</td>\n",
       "      <td>17,919,788.00</td>\n",
       "    </tr>\n",
       "    <tr>\n",
       "      <th>5</th>\n",
       "      <td>2011</td>\n",
       "      <td>18,230,230.00</td>\n",
       "    </tr>\n",
       "    <tr>\n",
       "      <th>6</th>\n",
       "      <td>2012</td>\n",
       "      <td>17,718,570.00</td>\n",
       "    </tr>\n",
       "  </tbody>\n",
       "</table>\n",
       "</div>"
      ],
      "text/plain": [
       "   YEAR   DOSAGE_UNIT\n",
       "0  2006 14,625,240.00\n",
       "1  2007 16,421,740.00\n",
       "2  2008 17,012,940.00\n",
       "3  2009 17,552,265.00\n",
       "4  2010 17,919,788.00\n",
       "5  2011 18,230,230.00\n",
       "6  2012 17,718,570.00"
      ]
     },
     "execution_count": 13,
     "metadata": {},
     "output_type": "execute_result"
    }
   ],
   "source": [
    "arcosvt_annual = arcosvt[[\"YEAR\",\"DOSAGE_UNIT\"]].groupby(\"YEAR\").sum().reset_index()\n",
    "\n",
    "# arcosvt_annual.to_csv(\"output/arcos-vt-annual.csv\",index=False)\n",
    "arcosvt_annual"
   ]
  },
  {
   "cell_type": "code",
   "execution_count": 14,
   "metadata": {},
   "outputs": [
    {
     "data": {
      "application/vnd.vegalite.v3+json": {
       "$schema": "https://vega.github.io/schema/vega-lite/v3.3.0.json",
       "config": {
        "mark": {
         "tooltip": null
        },
        "view": {
         "height": 300,
         "width": 400
        }
       },
       "data": {
        "name": "data-a1c184ca415e231429b5620172d47aa6"
       },
       "datasets": {
        "data-a1c184ca415e231429b5620172d47aa6": [
         {
          "DOSAGE_UNIT": 14625240,
          "YEAR": "2006"
         },
         {
          "DOSAGE_UNIT": 16421740,
          "YEAR": "2007"
         },
         {
          "DOSAGE_UNIT": 17012940,
          "YEAR": "2008"
         },
         {
          "DOSAGE_UNIT": 17552265,
          "YEAR": "2009"
         },
         {
          "DOSAGE_UNIT": 17919788,
          "YEAR": "2010"
         },
         {
          "DOSAGE_UNIT": 18230230,
          "YEAR": "2011"
         },
         {
          "DOSAGE_UNIT": 17718570,
          "YEAR": "2012"
         }
        ]
       },
       "layer": [
        {
         "encoding": {
          "x": {
           "field": "YEAR",
           "type": "ordinal"
          },
          "y": {
           "axis": {
            "title": "pills"
           },
           "field": "DOSAGE_UNIT",
           "type": "quantitative"
          }
         },
         "mark": "bar",
         "width": 500
        },
        {
         "encoding": {
          "text": {
           "field": "DOSAGE_UNIT",
           "type": "quantitative"
          },
          "x": {
           "field": "YEAR",
           "type": "ordinal"
          },
          "y": {
           "axis": {
            "title": "pills"
           },
           "field": "DOSAGE_UNIT",
           "type": "quantitative"
          }
         },
         "mark": {
          "align": "center",
          "baseline": "middle",
          "dy": -10,
          "type": "text"
         },
         "width": 500
        }
       ]
      },
      "image/png": "[encoded data removed]",
      "text/plain": [
       "<VegaLite 3 object>\n",
       "\n",
       "If you see this message, it means the renderer has not been properly enabled\n",
       "for the frontend that you are using. For more information, see\n",
       "https://altair-viz.github.io/user_guide/troubleshooting.html\n"
      ]
     },
     "execution_count": 14,
     "metadata": {},
     "output_type": "execute_result"
    }
   ],
   "source": [
    "bars = alt.Chart(arcosvt_annual).mark_bar().encode(\n",
    "    x=\"YEAR:O\",\n",
    "    y=alt.Y(\"DOSAGE_UNIT\",axis=alt.Axis(title='pills'))\n",
    ").properties(\n",
    "    width=500\n",
    ")\n",
    "\n",
    "text = bars.mark_text(\n",
    "    align='center',\n",
    "    baseline='middle',\n",
    "    dy=-10\n",
    ").encode(\n",
    "    text='DOSAGE_UNIT:Q'\n",
    ")\n",
    "\n",
    "bars + text"
   ]
  },
  {
   "cell_type": "markdown",
   "metadata": {},
   "source": [
    "## County-level data\n",
    "\n",
    "What does this data look like if we go to a slightly more granular level? Let's pull in U.S. Census Bureau population estimates for those years so we can get a population-adjusted rate of `pills/year/person` — that way Chittenden County doesn't steamroll everything else."
   ]
  },
  {
   "cell_type": "code",
   "execution_count": 24,
   "metadata": {},
   "outputs": [
    {
     "data": {
      "text/html": [
       "<div>\n",
       "<style scoped>\n",
       "    .dataframe tbody tr th:only-of-type {\n",
       "        vertical-align: middle;\n",
       "    }\n",
       "\n",
       "    .dataframe tbody tr th {\n",
       "        vertical-align: top;\n",
       "    }\n",
       "\n",
       "    .dataframe thead th {\n",
       "        text-align: right;\n",
       "    }\n",
       "</style>\n",
       "<table border=\"1\" class=\"dataframe\">\n",
       "  <thead>\n",
       "    <tr style=\"text-align: right;\">\n",
       "      <th></th>\n",
       "      <th>BUYER_COUNTY</th>\n",
       "      <th>YEAR</th>\n",
       "      <th>DOSAGE_UNIT</th>\n",
       "      <th>pop</th>\n",
       "      <th>rate</th>\n",
       "    </tr>\n",
       "  </thead>\n",
       "  <tbody>\n",
       "    <tr>\n",
       "      <th>0</th>\n",
       "      <td>ADDISON</td>\n",
       "      <td>2006</td>\n",
       "      <td>767,400.00</td>\n",
       "      <td>36758</td>\n",
       "      <td>20.88</td>\n",
       "    </tr>\n",
       "    <tr>\n",
       "      <th>1</th>\n",
       "      <td>ADDISON</td>\n",
       "      <td>2007</td>\n",
       "      <td>844,900.00</td>\n",
       "      <td>36886</td>\n",
       "      <td>22.91</td>\n",
       "    </tr>\n",
       "    <tr>\n",
       "      <th>2</th>\n",
       "      <td>ADDISON</td>\n",
       "      <td>2008</td>\n",
       "      <td>856,050.00</td>\n",
       "      <td>36905</td>\n",
       "      <td>23.20</td>\n",
       "    </tr>\n",
       "    <tr>\n",
       "      <th>3</th>\n",
       "      <td>ADDISON</td>\n",
       "      <td>2009</td>\n",
       "      <td>915,270.00</td>\n",
       "      <td>36847</td>\n",
       "      <td>24.84</td>\n",
       "    </tr>\n",
       "    <tr>\n",
       "      <th>4</th>\n",
       "      <td>ADDISON</td>\n",
       "      <td>2010</td>\n",
       "      <td>868,380.00</td>\n",
       "      <td>36826</td>\n",
       "      <td>23.58</td>\n",
       "    </tr>\n",
       "  </tbody>\n",
       "</table>\n",
       "</div>"
      ],
      "text/plain": [
       "  BUYER_COUNTY  YEAR  DOSAGE_UNIT    pop  rate\n",
       "0      ADDISON  2006   767,400.00  36758 20.88\n",
       "1      ADDISON  2007   844,900.00  36886 22.91\n",
       "2      ADDISON  2008   856,050.00  36905 23.20\n",
       "3      ADDISON  2009   915,270.00  36847 24.84\n",
       "4      ADDISON  2010   868,380.00  36826 23.58"
      ]
     },
     "execution_count": 24,
     "metadata": {},
     "output_type": "execute_result"
    }
   ],
   "source": [
    "countypop = pd.read_csv(\"raw_data/countypop-2000-2018.csv\",thousands=',')\n",
    "countypop[\"County\"] = countypop[\"County\"].str.upper().str.replace(\" COUNTY\",\"\")\n",
    "countypop = countypop.melt(id_vars=[\"County\"],var_name=\"year\", value_name=\"pop\")\n",
    "\n",
    "arcosvt_annual_county = arcosvt[[\"YEAR\",\"BUYER_COUNTY\",\"DOSAGE_UNIT\"]].groupby([\"BUYER_COUNTY\",\"YEAR\"]).sum().reset_index()\n",
    "\n",
    "arcosvt_annual_county[\"YEAR\"] = arcosvt_annual_county[\"YEAR\"].astype(\"str\")\n",
    "arcosvt_annual_county = arcosvt_annual_county.merge(\n",
    "    countypop, left_on=[\"BUYER_COUNTY\",\"YEAR\"], right_on=[\"County\",\"year\"], how=\"left\"\n",
    ")\n",
    "arcosvt_annual_county=arcosvt_annual_county[[\"BUYER_COUNTY\",\"YEAR\",\"DOSAGE_UNIT\",\"pop\"]]\n",
    "arcosvt_annual_county[\"rate\"] = arcosvt_annual_county[\"DOSAGE_UNIT\"]/arcosvt_annual_county[\"pop\"]\n",
    "# arcosvt_annual_county.to_csv(\"output/arcos-county-rates.csv\", index=False)\n",
    "arcosvt_annual_county.head()"
   ]
  },
  {
   "cell_type": "markdown",
   "metadata": {},
   "source": [
    "Just for kicks, let's look at what those totals show before we adjust them for population."
   ]
  },
  {
   "cell_type": "code",
   "execution_count": 25,
   "metadata": {},
   "outputs": [
    {
     "data": {
      "application/vnd.vegalite.v3+json": {
       "$schema": "https://vega.github.io/schema/vega-lite/v3.3.0.json",
       "columns": 7,
       "config": {
        "mark": {
         "tooltip": null
        },
        "view": {
         "height": 300,
         "width": 400
        }
       },
       "data": {
        "name": "data-c738ee18583df2484806a73604437710"
       },
       "datasets": {
        "data-c738ee18583df2484806a73604437710": [
         {
          "BUYER_COUNTY": "ADDISON",
          "DOSAGE_UNIT": 767400,
          "YEAR": "2006",
          "pop": 36758,
          "rate": 20.87708798084771
         },
         {
          "BUYER_COUNTY": "ADDISON",
          "DOSAGE_UNIT": 844900,
          "YEAR": "2007",
          "pop": 36886,
          "rate": 22.905709483272787
         },
         {
          "BUYER_COUNTY": "ADDISON",
          "DOSAGE_UNIT": 856050,
          "YEAR": "2008",
          "pop": 36905,
          "rate": 23.19604389649099
         },
         {
          "BUYER_COUNTY": "ADDISON",
          "DOSAGE_UNIT": 915270,
          "YEAR": "2009",
          "pop": 36847,
          "rate": 24.839742719895785
         },
         {
          "BUYER_COUNTY": "ADDISON",
          "DOSAGE_UNIT": 868380,
          "YEAR": "2010",
          "pop": 36826,
          "rate": 23.580622386357465
         },
         {
          "BUYER_COUNTY": "ADDISON",
          "DOSAGE_UNIT": 827640,
          "YEAR": "2011",
          "pop": 36967,
          "rate": 22.388616874509697
         },
         {
          "BUYER_COUNTY": "ADDISON",
          "DOSAGE_UNIT": 753100,
          "YEAR": "2012",
          "pop": 36901,
          "rate": 20.408661011896697
         },
         {
          "BUYER_COUNTY": "BENNINGTON",
          "DOSAGE_UNIT": 928330,
          "YEAR": "2006",
          "pop": 37127,
          "rate": 25.00417485926684
         },
         {
          "BUYER_COUNTY": "BENNINGTON",
          "DOSAGE_UNIT": 1077520,
          "YEAR": "2007",
          "pop": 37077,
          "rate": 29.06168244464223
         },
         {
          "BUYER_COUNTY": "BENNINGTON",
          "DOSAGE_UNIT": 1167540,
          "YEAR": "2008",
          "pop": 37168,
          "rate": 31.41250538097288
         },
         {
          "BUYER_COUNTY": "BENNINGTON",
          "DOSAGE_UNIT": 1288890,
          "YEAR": "2009",
          "pop": 37151,
          "rate": 34.69327878119028
         },
         {
          "BUYER_COUNTY": "BENNINGTON",
          "DOSAGE_UNIT": 1298830,
          "YEAR": "2010",
          "pop": 37083,
          "rate": 35.02494404444085
         },
         {
          "BUYER_COUNTY": "BENNINGTON",
          "DOSAGE_UNIT": 1224420,
          "YEAR": "2011",
          "pop": 36814,
          "rate": 33.25962948878144
         },
         {
          "BUYER_COUNTY": "BENNINGTON",
          "DOSAGE_UNIT": 1059860,
          "YEAR": "2012",
          "pop": 36614,
          "rate": 28.94685093133774
         },
         {
          "BUYER_COUNTY": "CALEDONIA",
          "DOSAGE_UNIT": 793200,
          "YEAR": "2006",
          "pop": 31252,
          "rate": 25.380775630359658
         },
         {
          "BUYER_COUNTY": "CALEDONIA",
          "DOSAGE_UNIT": 833000,
          "YEAR": "2007",
          "pop": 31238,
          "rate": 26.666239836097063
         },
         {
          "BUYER_COUNTY": "CALEDONIA",
          "DOSAGE_UNIT": 798200,
          "YEAR": "2008",
          "pop": 31167,
          "rate": 25.610421278916803
         },
         {
          "BUYER_COUNTY": "CALEDONIA",
          "DOSAGE_UNIT": 785780,
          "YEAR": "2009",
          "pop": 31213,
          "rate": 25.17476692403806
         },
         {
          "BUYER_COUNTY": "CALEDONIA",
          "DOSAGE_UNIT": 850860,
          "YEAR": "2010",
          "pop": 31162,
          "rate": 27.30440921635325
         },
         {
          "BUYER_COUNTY": "CALEDONIA",
          "DOSAGE_UNIT": 943950,
          "YEAR": "2011",
          "pop": 31102,
          "rate": 30.350138254774613
         },
         {
          "BUYER_COUNTY": "CALEDONIA",
          "DOSAGE_UNIT": 908560,
          "YEAR": "2012",
          "pop": 31019,
          "rate": 29.29043489474193
         },
         {
          "BUYER_COUNTY": "CHITTENDEN",
          "DOSAGE_UNIT": 3729120,
          "YEAR": "2006",
          "pop": 152861,
          "rate": 24.39549656223628
         },
         {
          "BUYER_COUNTY": "CHITTENDEN",
          "DOSAGE_UNIT": 4180940,
          "YEAR": "2007",
          "pop": 153625,
          "rate": 27.215231895850284
         },
         {
          "BUYER_COUNTY": "CHITTENDEN",
          "DOSAGE_UNIT": 4407100,
          "YEAR": "2008",
          "pop": 154659,
          "rate": 28.495593531575917
         },
         {
          "BUYER_COUNTY": "CHITTENDEN",
          "DOSAGE_UNIT": 4628400,
          "YEAR": "2009",
          "pop": 155793,
          "rate": 29.708651864974676
         },
         {
          "BUYER_COUNTY": "CHITTENDEN",
          "DOSAGE_UNIT": 4663208,
          "YEAR": "2010",
          "pop": 156773,
          "rate": 29.744968840297755
         },
         {
          "BUYER_COUNTY": "CHITTENDEN",
          "DOSAGE_UNIT": 4774160,
          "YEAR": "2011",
          "pop": 158023,
          "rate": 30.211804610721224
         },
         {
          "BUYER_COUNTY": "CHITTENDEN",
          "DOSAGE_UNIT": 4713270,
          "YEAR": "2012",
          "pop": 158677,
          "rate": 29.703548718465814
         },
         {
          "BUYER_COUNTY": "ESSEX",
          "DOSAGE_UNIT": 18100,
          "YEAR": "2006",
          "pop": 6341,
          "rate": 2.854439362876518
         },
         {
          "BUYER_COUNTY": "ESSEX",
          "DOSAGE_UNIT": 12900,
          "YEAR": "2007",
          "pop": 6421,
          "rate": 2.0090328609250894
         },
         {
          "BUYER_COUNTY": "ESSEX",
          "DOSAGE_UNIT": 10400,
          "YEAR": "2008",
          "pop": 6404,
          "rate": 1.6239850093691444
         },
         {
          "BUYER_COUNTY": "ESSEX",
          "DOSAGE_UNIT": 6700,
          "YEAR": "2009",
          "pop": 6331,
          "rate": 1.0582846311799083
         },
         {
          "BUYER_COUNTY": "ESSEX",
          "DOSAGE_UNIT": 7200,
          "YEAR": "2010",
          "pop": 6312,
          "rate": 1.1406844106463878
         },
         {
          "BUYER_COUNTY": "ESSEX",
          "DOSAGE_UNIT": 6900,
          "YEAR": "2011",
          "pop": 6323,
          "rate": 1.091254151510359
         },
         {
          "BUYER_COUNTY": "ESSEX",
          "DOSAGE_UNIT": 8000,
          "YEAR": "2012",
          "pop": 6223,
          "rate": 1.2855535915153462
         },
         {
          "BUYER_COUNTY": "FRANKLIN",
          "DOSAGE_UNIT": 1342300,
          "YEAR": "2006",
          "pop": 47392,
          "rate": 28.323345712356517
         },
         {
          "BUYER_COUNTY": "FRANKLIN",
          "DOSAGE_UNIT": 1578960,
          "YEAR": "2007",
          "pop": 47455,
          "rate": 33.27278474344116
         },
         {
          "BUYER_COUNTY": "FRANKLIN",
          "DOSAGE_UNIT": 1544900,
          "YEAR": "2008",
          "pop": 47462,
          "rate": 32.55025072689731
         },
         {
          "BUYER_COUNTY": "FRANKLIN",
          "DOSAGE_UNIT": 1609795,
          "YEAR": "2009",
          "pop": 47620,
          "rate": 33.805018899622006
         },
         {
          "BUYER_COUNTY": "FRANKLIN",
          "DOSAGE_UNIT": 1686720,
          "YEAR": "2010",
          "pop": 47813,
          "rate": 35.27743500721561
         },
         {
          "BUYER_COUNTY": "FRANKLIN",
          "DOSAGE_UNIT": 1702950,
          "YEAR": "2011",
          "pop": 48214,
          "rate": 35.32065375202223
         },
         {
          "BUYER_COUNTY": "FRANKLIN",
          "DOSAGE_UNIT": 1682080,
          "YEAR": "2012",
          "pop": 48307,
          "rate": 34.8206264102511
         },
         {
          "BUYER_COUNTY": "GRAND ISLE",
          "DOSAGE_UNIT": 39200,
          "YEAR": "2006",
          "pop": 7173,
          "rate": 5.464937961801199
         },
         {
          "BUYER_COUNTY": "GRAND ISLE",
          "DOSAGE_UNIT": 49600,
          "YEAR": "2007",
          "pop": 7152,
          "rate": 6.935123042505593
         },
         {
          "BUYER_COUNTY": "GRAND ISLE",
          "DOSAGE_UNIT": 56430,
          "YEAR": "2008",
          "pop": 7211,
          "rate": 7.825544307308279
         },
         {
          "BUYER_COUNTY": "GRAND ISLE",
          "DOSAGE_UNIT": 52460,
          "YEAR": "2009",
          "pop": 7022,
          "rate": 7.470806038165764
         },
         {
          "BUYER_COUNTY": "GRAND ISLE",
          "DOSAGE_UNIT": 53660,
          "YEAR": "2010",
          "pop": 6948,
          "rate": 7.7230857800805985
         },
         {
          "BUYER_COUNTY": "GRAND ISLE",
          "DOSAGE_UNIT": 62630,
          "YEAR": "2011",
          "pop": 6973,
          "rate": 8.981786892298867
         },
         {
          "BUYER_COUNTY": "GRAND ISLE",
          "DOSAGE_UNIT": 78130,
          "YEAR": "2012",
          "pop": 6971,
          "rate": 11.207861139004446
         },
         {
          "BUYER_COUNTY": "LAMOILLE",
          "DOSAGE_UNIT": 556600,
          "YEAR": "2006",
          "pop": 23642,
          "rate": 23.542847474832925
         },
         {
          "BUYER_COUNTY": "LAMOILLE",
          "DOSAGE_UNIT": 651430,
          "YEAR": "2007",
          "pop": 23778,
          "rate": 27.39633274455379
         },
         {
          "BUYER_COUNTY": "LAMOILLE",
          "DOSAGE_UNIT": 775380,
          "YEAR": "2008",
          "pop": 23971,
          "rate": 32.34658545742772
         },
         {
          "BUYER_COUNTY": "LAMOILLE",
          "DOSAGE_UNIT": 762250,
          "YEAR": "2009",
          "pop": 24193,
          "rate": 31.50704749307651
         },
         {
          "BUYER_COUNTY": "LAMOILLE",
          "DOSAGE_UNIT": 761740,
          "YEAR": "2010",
          "pop": 24517,
          "rate": 31.06986988620141
         },
         {
          "BUYER_COUNTY": "LAMOILLE",
          "DOSAGE_UNIT": 794720,
          "YEAR": "2011",
          "pop": 24706,
          "rate": 32.16708491864325
         },
         {
          "BUYER_COUNTY": "LAMOILLE",
          "DOSAGE_UNIT": 822550,
          "YEAR": "2012",
          "pop": 24945,
          "rate": 32.974543996792946
         },
         {
          "BUYER_COUNTY": "ORANGE",
          "DOSAGE_UNIT": 371700,
          "YEAR": "2006",
          "pop": 29249,
          "rate": 12.708126773564908
         },
         {
          "BUYER_COUNTY": "ORANGE",
          "DOSAGE_UNIT": 411100,
          "YEAR": "2007",
          "pop": 29119,
          "rate": 14.117929873965451
         },
         {
          "BUYER_COUNTY": "ORANGE",
          "DOSAGE_UNIT": 404900,
          "YEAR": "2008",
          "pop": 29032,
          "rate": 13.946679526040231
         },
         {
          "BUYER_COUNTY": "ORANGE",
          "DOSAGE_UNIT": 439300,
          "YEAR": "2009",
          "pop": 28965,
          "rate": 15.166580355601589
         },
         {
          "BUYER_COUNTY": "ORANGE",
          "DOSAGE_UNIT": 473810,
          "YEAR": "2010",
          "pop": 28947,
          "rate": 16.36819014060179
         },
         {
          "BUYER_COUNTY": "ORANGE",
          "DOSAGE_UNIT": 492810,
          "YEAR": "2011",
          "pop": 29018,
          "rate": 16.982907161072436
         },
         {
          "BUYER_COUNTY": "ORANGE",
          "DOSAGE_UNIT": 497240,
          "YEAR": "2012",
          "pop": 28917,
          "rate": 17.195421378427913
         },
         {
          "BUYER_COUNTY": "ORLEANS",
          "DOSAGE_UNIT": 679540,
          "YEAR": "2006",
          "pop": 27215,
          "rate": 24.969318390593422
         },
         {
          "BUYER_COUNTY": "ORLEANS",
          "DOSAGE_UNIT": 656590,
          "YEAR": "2007",
          "pop": 27332,
          "rate": 24.02275720766867
         },
         {
          "BUYER_COUNTY": "ORLEANS",
          "DOSAGE_UNIT": 679760,
          "YEAR": "2008",
          "pop": 27269,
          "rate": 24.92794015182075
         },
         {
          "BUYER_COUNTY": "ORLEANS",
          "DOSAGE_UNIT": 673320,
          "YEAR": "2009",
          "pop": 27234,
          "rate": 24.72350738048028
         },
         {
          "BUYER_COUNTY": "ORLEANS",
          "DOSAGE_UNIT": 698250,
          "YEAR": "2010",
          "pop": 27245,
          "rate": 25.628555698293265
         },
         {
          "BUYER_COUNTY": "ORLEANS",
          "DOSAGE_UNIT": 748500,
          "YEAR": "2011",
          "pop": 27191,
          "rate": 27.52749071383914
         },
         {
          "BUYER_COUNTY": "ORLEANS",
          "DOSAGE_UNIT": 798050,
          "YEAR": "2012",
          "pop": 27161,
          "rate": 29.382202422591217
         },
         {
          "BUYER_COUNTY": "RUTLAND",
          "DOSAGE_UNIT": 1444890,
          "YEAR": "2006",
          "pop": 62894,
          "rate": 22.973415588132415
         },
         {
          "BUYER_COUNTY": "RUTLAND",
          "DOSAGE_UNIT": 1626970,
          "YEAR": "2007",
          "pop": 62618,
          "rate": 25.9824651058801
         },
         {
          "BUYER_COUNTY": "RUTLAND",
          "DOSAGE_UNIT": 1634720,
          "YEAR": "2008",
          "pop": 62368,
          "rate": 26.2108773730118
         },
         {
          "BUYER_COUNTY": "RUTLAND",
          "DOSAGE_UNIT": 1698940,
          "YEAR": "2009",
          "pop": 61946,
          "rate": 27.426145352403708
         },
         {
          "BUYER_COUNTY": "RUTLAND",
          "DOSAGE_UNIT": 1743100,
          "YEAR": "2010",
          "pop": 61578,
          "rate": 28.307187631946473
         },
         {
          "BUYER_COUNTY": "RUTLAND",
          "DOSAGE_UNIT": 1708620,
          "YEAR": "2011",
          "pop": 61220,
          "rate": 27.90950669715779
         },
         {
          "BUYER_COUNTY": "RUTLAND",
          "DOSAGE_UNIT": 1622730,
          "YEAR": "2012",
          "pop": 60791,
          "rate": 26.693589511605335
         },
         {
          "BUYER_COUNTY": "WASHINGTON",
          "DOSAGE_UNIT": 1536760,
          "YEAR": "2006",
          "pop": 59414,
          "rate": 25.865284276433165
         },
         {
          "BUYER_COUNTY": "WASHINGTON",
          "DOSAGE_UNIT": 1607580,
          "YEAR": "2007",
          "pop": 59275,
          "rate": 27.120708561788273
         },
         {
          "BUYER_COUNTY": "WASHINGTON",
          "DOSAGE_UNIT": 1745730,
          "YEAR": "2008",
          "pop": 59278,
          "rate": 29.449880225378724
         },
         {
          "BUYER_COUNTY": "WASHINGTON",
          "DOSAGE_UNIT": 1839200,
          "YEAR": "2009",
          "pop": 59353,
          "rate": 30.987481677421528
         },
         {
          "BUYER_COUNTY": "WASHINGTON",
          "DOSAGE_UNIT": 1904890,
          "YEAR": "2010",
          "pop": 59569,
          "rate": 31.977874397757223
         },
         {
          "BUYER_COUNTY": "WASHINGTON",
          "DOSAGE_UNIT": 1914370,
          "YEAR": "2011",
          "pop": 59584,
          "rate": 32.12892722878625
         },
         {
          "BUYER_COUNTY": "WASHINGTON",
          "DOSAGE_UNIT": 1845700,
          "YEAR": "2012",
          "pop": 59405,
          "rate": 31.0697752714418
         },
         {
          "BUYER_COUNTY": "WINDHAM",
          "DOSAGE_UNIT": 1333400,
          "YEAR": "2006",
          "pop": 44390,
          "rate": 30.038296913719307
         },
         {
          "BUYER_COUNTY": "WINDHAM",
          "DOSAGE_UNIT": 1607510,
          "YEAR": "2007",
          "pop": 44444,
          "rate": 36.16933669336694
         },
         {
          "BUYER_COUNTY": "WINDHAM",
          "DOSAGE_UNIT": 1664870,
          "YEAR": "2008",
          "pop": 44407,
          "rate": 37.491161303398115
         },
         {
          "BUYER_COUNTY": "WINDHAM",
          "DOSAGE_UNIT": 1595910,
          "YEAR": "2009",
          "pop": 44441,
          "rate": 35.91075808375149
         },
         {
          "BUYER_COUNTY": "WINDHAM",
          "DOSAGE_UNIT": 1630910,
          "YEAR": "2010",
          "pop": 44505,
          "rate": 36.6455454443321
         },
         {
          "BUYER_COUNTY": "WINDHAM",
          "DOSAGE_UNIT": 1654910,
          "YEAR": "2011",
          "pop": 44239,
          "rate": 37.408395307308034
         },
         {
          "BUYER_COUNTY": "WINDHAM",
          "DOSAGE_UNIT": 1572570,
          "YEAR": "2012",
          "pop": 43998,
          "rate": 35.7418519023592
         },
         {
          "BUYER_COUNTY": "WINDSOR",
          "DOSAGE_UNIT": 1084700,
          "YEAR": "2006",
          "pop": 57184,
          "rate": 18.96859261331841
         },
         {
          "BUYER_COUNTY": "WINDSOR",
          "DOSAGE_UNIT": 1282740,
          "YEAR": "2007",
          "pop": 57061,
          "rate": 22.480152818913094
         },
         {
          "BUYER_COUNTY": "WINDSOR",
          "DOSAGE_UNIT": 1266960,
          "YEAR": "2008",
          "pop": 56850,
          "rate": 22.286015831134566
         },
         {
          "BUYER_COUNTY": "WINDSOR",
          "DOSAGE_UNIT": 1256050,
          "YEAR": "2009",
          "pop": 56708,
          "rate": 22.149432178881288
         },
         {
          "BUYER_COUNTY": "WINDSOR",
          "DOSAGE_UNIT": 1278230,
          "YEAR": "2010",
          "pop": 56602,
          "rate": 22.582770926822374
         },
         {
          "BUYER_COUNTY": "WINDSOR",
          "DOSAGE_UNIT": 1373650,
          "YEAR": "2011",
          "pop": 56605,
          "rate": 24.267290875364367
         },
         {
          "BUYER_COUNTY": "WINDSOR",
          "DOSAGE_UNIT": 1356730,
          "YEAR": "2012",
          "pop": 56134,
          "rate": 24.169487298250615
         }
        ]
       },
       "encoding": {
        "facet": {
         "field": "BUYER_COUNTY",
         "type": "nominal"
        },
        "x": {
         "field": "YEAR",
         "type": "ordinal"
        },
        "y": {
         "axis": {
          "title": "pills"
         },
         "field": "DOSAGE_UNIT",
         "type": "quantitative"
        }
       },
       "height": 100,
       "mark": "bar",
       "width": 100
      },
      "image/png": "[encoded data removed]",
      "text/plain": [
       "<VegaLite 3 object>\n",
       "\n",
       "If you see this message, it means the renderer has not been properly enabled\n",
       "for the frontend that you are using. For more information, see\n",
       "https://altair-viz.github.io/user_guide/troubleshooting.html\n"
      ]
     },
     "execution_count": 25,
     "metadata": {},
     "output_type": "execute_result"
    }
   ],
   "source": [
    "county_facet = alt.Chart(arcosvt_annual_county).mark_bar().encode(\n",
    "    x=\"YEAR:O\",\n",
    "    y=alt.Y(\"DOSAGE_UNIT\",axis=alt.Axis(title='pills')),\n",
    "    facet=\"BUYER_COUNTY:N\",\n",
    ").properties(\n",
    "    width=100,\n",
    "    height=100,\n",
    "    columns=7,\n",
    ")\n",
    "\n",
    "county_facet"
   ]
  },
  {
   "cell_type": "markdown",
   "metadata": {},
   "source": [
    "Now let's look at pills per person for each county."
   ]
  },
  {
   "cell_type": "code",
   "execution_count": 26,
   "metadata": {},
   "outputs": [
    {
     "data": {
      "application/vnd.vegalite.v3+json": {
       "$schema": "https://vega.github.io/schema/vega-lite/v3.3.0.json",
       "columns": 7,
       "config": {
        "mark": {
         "tooltip": null
        },
        "view": {
         "height": 300,
         "width": 400
        }
       },
       "data": {
        "name": "data-c738ee18583df2484806a73604437710"
       },
       "datasets": {
        "data-c738ee18583df2484806a73604437710": [
         {
          "BUYER_COUNTY": "ADDISON",
          "DOSAGE_UNIT": 767400,
          "YEAR": "2006",
          "pop": 36758,
          "rate": 20.87708798084771
         },
         {
          "BUYER_COUNTY": "ADDISON",
          "DOSAGE_UNIT": 844900,
          "YEAR": "2007",
          "pop": 36886,
          "rate": 22.905709483272787
         },
         {
          "BUYER_COUNTY": "ADDISON",
          "DOSAGE_UNIT": 856050,
          "YEAR": "2008",
          "pop": 36905,
          "rate": 23.19604389649099
         },
         {
          "BUYER_COUNTY": "ADDISON",
          "DOSAGE_UNIT": 915270,
          "YEAR": "2009",
          "pop": 36847,
          "rate": 24.839742719895785
         },
         {
          "BUYER_COUNTY": "ADDISON",
          "DOSAGE_UNIT": 868380,
          "YEAR": "2010",
          "pop": 36826,
          "rate": 23.580622386357465
         },
         {
          "BUYER_COUNTY": "ADDISON",
          "DOSAGE_UNIT": 827640,
          "YEAR": "2011",
          "pop": 36967,
          "rate": 22.388616874509697
         },
         {
          "BUYER_COUNTY": "ADDISON",
          "DOSAGE_UNIT": 753100,
          "YEAR": "2012",
          "pop": 36901,
          "rate": 20.408661011896697
         },
         {
          "BUYER_COUNTY": "BENNINGTON",
          "DOSAGE_UNIT": 928330,
          "YEAR": "2006",
          "pop": 37127,
          "rate": 25.00417485926684
         },
         {
          "BUYER_COUNTY": "BENNINGTON",
          "DOSAGE_UNIT": 1077520,
          "YEAR": "2007",
          "pop": 37077,
          "rate": 29.06168244464223
         },
         {
          "BUYER_COUNTY": "BENNINGTON",
          "DOSAGE_UNIT": 1167540,
          "YEAR": "2008",
          "pop": 37168,
          "rate": 31.41250538097288
         },
         {
          "BUYER_COUNTY": "BENNINGTON",
          "DOSAGE_UNIT": 1288890,
          "YEAR": "2009",
          "pop": 37151,
          "rate": 34.69327878119028
         },
         {
          "BUYER_COUNTY": "BENNINGTON",
          "DOSAGE_UNIT": 1298830,
          "YEAR": "2010",
          "pop": 37083,
          "rate": 35.02494404444085
         },
         {
          "BUYER_COUNTY": "BENNINGTON",
          "DOSAGE_UNIT": 1224420,
          "YEAR": "2011",
          "pop": 36814,
          "rate": 33.25962948878144
         },
         {
          "BUYER_COUNTY": "BENNINGTON",
          "DOSAGE_UNIT": 1059860,
          "YEAR": "2012",
          "pop": 36614,
          "rate": 28.94685093133774
         },
         {
          "BUYER_COUNTY": "CALEDONIA",
          "DOSAGE_UNIT": 793200,
          "YEAR": "2006",
          "pop": 31252,
          "rate": 25.380775630359658
         },
         {
          "BUYER_COUNTY": "CALEDONIA",
          "DOSAGE_UNIT": 833000,
          "YEAR": "2007",
          "pop": 31238,
          "rate": 26.666239836097063
         },
         {
          "BUYER_COUNTY": "CALEDONIA",
          "DOSAGE_UNIT": 798200,
          "YEAR": "2008",
          "pop": 31167,
          "rate": 25.610421278916803
         },
         {
          "BUYER_COUNTY": "CALEDONIA",
          "DOSAGE_UNIT": 785780,
          "YEAR": "2009",
          "pop": 31213,
          "rate": 25.17476692403806
         },
         {
          "BUYER_COUNTY": "CALEDONIA",
          "DOSAGE_UNIT": 850860,
          "YEAR": "2010",
          "pop": 31162,
          "rate": 27.30440921635325
         },
         {
          "BUYER_COUNTY": "CALEDONIA",
          "DOSAGE_UNIT": 943950,
          "YEAR": "2011",
          "pop": 31102,
          "rate": 30.350138254774613
         },
         {
          "BUYER_COUNTY": "CALEDONIA",
          "DOSAGE_UNIT": 908560,
          "YEAR": "2012",
          "pop": 31019,
          "rate": 29.29043489474193
         },
         {
          "BUYER_COUNTY": "CHITTENDEN",
          "DOSAGE_UNIT": 3729120,
          "YEAR": "2006",
          "pop": 152861,
          "rate": 24.39549656223628
         },
         {
          "BUYER_COUNTY": "CHITTENDEN",
          "DOSAGE_UNIT": 4180940,
          "YEAR": "2007",
          "pop": 153625,
          "rate": 27.215231895850284
         },
         {
          "BUYER_COUNTY": "CHITTENDEN",
          "DOSAGE_UNIT": 4407100,
          "YEAR": "2008",
          "pop": 154659,
          "rate": 28.495593531575917
         },
         {
          "BUYER_COUNTY": "CHITTENDEN",
          "DOSAGE_UNIT": 4628400,
          "YEAR": "2009",
          "pop": 155793,
          "rate": 29.708651864974676
         },
         {
          "BUYER_COUNTY": "CHITTENDEN",
          "DOSAGE_UNIT": 4663208,
          "YEAR": "2010",
          "pop": 156773,
          "rate": 29.744968840297755
         },
         {
          "BUYER_COUNTY": "CHITTENDEN",
          "DOSAGE_UNIT": 4774160,
          "YEAR": "2011",
          "pop": 158023,
          "rate": 30.211804610721224
         },
         {
          "BUYER_COUNTY": "CHITTENDEN",
          "DOSAGE_UNIT": 4713270,
          "YEAR": "2012",
          "pop": 158677,
          "rate": 29.703548718465814
         },
         {
          "BUYER_COUNTY": "ESSEX",
          "DOSAGE_UNIT": 18100,
          "YEAR": "2006",
          "pop": 6341,
          "rate": 2.854439362876518
         },
         {
          "BUYER_COUNTY": "ESSEX",
          "DOSAGE_UNIT": 12900,
          "YEAR": "2007",
          "pop": 6421,
          "rate": 2.0090328609250894
         },
         {
          "BUYER_COUNTY": "ESSEX",
          "DOSAGE_UNIT": 10400,
          "YEAR": "2008",
          "pop": 6404,
          "rate": 1.6239850093691444
         },
         {
          "BUYER_COUNTY": "ESSEX",
          "DOSAGE_UNIT": 6700,
          "YEAR": "2009",
          "pop": 6331,
          "rate": 1.0582846311799083
         },
         {
          "BUYER_COUNTY": "ESSEX",
          "DOSAGE_UNIT": 7200,
          "YEAR": "2010",
          "pop": 6312,
          "rate": 1.1406844106463878
         },
         {
          "BUYER_COUNTY": "ESSEX",
          "DOSAGE_UNIT": 6900,
          "YEAR": "2011",
          "pop": 6323,
          "rate": 1.091254151510359
         },
         {
          "BUYER_COUNTY": "ESSEX",
          "DOSAGE_UNIT": 8000,
          "YEAR": "2012",
          "pop": 6223,
          "rate": 1.2855535915153462
         },
         {
          "BUYER_COUNTY": "FRANKLIN",
          "DOSAGE_UNIT": 1342300,
          "YEAR": "2006",
          "pop": 47392,
          "rate": 28.323345712356517
         },
         {
          "BUYER_COUNTY": "FRANKLIN",
          "DOSAGE_UNIT": 1578960,
          "YEAR": "2007",
          "pop": 47455,
          "rate": 33.27278474344116
         },
         {
          "BUYER_COUNTY": "FRANKLIN",
          "DOSAGE_UNIT": 1544900,
          "YEAR": "2008",
          "pop": 47462,
          "rate": 32.55025072689731
         },
         {
          "BUYER_COUNTY": "FRANKLIN",
          "DOSAGE_UNIT": 1609795,
          "YEAR": "2009",
          "pop": 47620,
          "rate": 33.805018899622006
         },
         {
          "BUYER_COUNTY": "FRANKLIN",
          "DOSAGE_UNIT": 1686720,
          "YEAR": "2010",
          "pop": 47813,
          "rate": 35.27743500721561
         },
         {
          "BUYER_COUNTY": "FRANKLIN",
          "DOSAGE_UNIT": 1702950,
          "YEAR": "2011",
          "pop": 48214,
          "rate": 35.32065375202223
         },
         {
          "BUYER_COUNTY": "FRANKLIN",
          "DOSAGE_UNIT": 1682080,
          "YEAR": "2012",
          "pop": 48307,
          "rate": 34.8206264102511
         },
         {
          "BUYER_COUNTY": "GRAND ISLE",
          "DOSAGE_UNIT": 39200,
          "YEAR": "2006",
          "pop": 7173,
          "rate": 5.464937961801199
         },
         {
          "BUYER_COUNTY": "GRAND ISLE",
          "DOSAGE_UNIT": 49600,
          "YEAR": "2007",
          "pop": 7152,
          "rate": 6.935123042505593
         },
         {
          "BUYER_COUNTY": "GRAND ISLE",
          "DOSAGE_UNIT": 56430,
          "YEAR": "2008",
          "pop": 7211,
          "rate": 7.825544307308279
         },
         {
          "BUYER_COUNTY": "GRAND ISLE",
          "DOSAGE_UNIT": 52460,
          "YEAR": "2009",
          "pop": 7022,
          "rate": 7.470806038165764
         },
         {
          "BUYER_COUNTY": "GRAND ISLE",
          "DOSAGE_UNIT": 53660,
          "YEAR": "2010",
          "pop": 6948,
          "rate": 7.7230857800805985
         },
         {
          "BUYER_COUNTY": "GRAND ISLE",
          "DOSAGE_UNIT": 62630,
          "YEAR": "2011",
          "pop": 6973,
          "rate": 8.981786892298867
         },
         {
          "BUYER_COUNTY": "GRAND ISLE",
          "DOSAGE_UNIT": 78130,
          "YEAR": "2012",
          "pop": 6971,
          "rate": 11.207861139004446
         },
         {
          "BUYER_COUNTY": "LAMOILLE",
          "DOSAGE_UNIT": 556600,
          "YEAR": "2006",
          "pop": 23642,
          "rate": 23.542847474832925
         },
         {
          "BUYER_COUNTY": "LAMOILLE",
          "DOSAGE_UNIT": 651430,
          "YEAR": "2007",
          "pop": 23778,
          "rate": 27.39633274455379
         },
         {
          "BUYER_COUNTY": "LAMOILLE",
          "DOSAGE_UNIT": 775380,
          "YEAR": "2008",
          "pop": 23971,
          "rate": 32.34658545742772
         },
         {
          "BUYER_COUNTY": "LAMOILLE",
          "DOSAGE_UNIT": 762250,
          "YEAR": "2009",
          "pop": 24193,
          "rate": 31.50704749307651
         },
         {
          "BUYER_COUNTY": "LAMOILLE",
          "DOSAGE_UNIT": 761740,
          "YEAR": "2010",
          "pop": 24517,
          "rate": 31.06986988620141
         },
         {
          "BUYER_COUNTY": "LAMOILLE",
          "DOSAGE_UNIT": 794720,
          "YEAR": "2011",
          "pop": 24706,
          "rate": 32.16708491864325
         },
         {
          "BUYER_COUNTY": "LAMOILLE",
          "DOSAGE_UNIT": 822550,
          "YEAR": "2012",
          "pop": 24945,
          "rate": 32.974543996792946
         },
         {
          "BUYER_COUNTY": "ORANGE",
          "DOSAGE_UNIT": 371700,
          "YEAR": "2006",
          "pop": 29249,
          "rate": 12.708126773564908
         },
         {
          "BUYER_COUNTY": "ORANGE",
          "DOSAGE_UNIT": 411100,
          "YEAR": "2007",
          "pop": 29119,
          "rate": 14.117929873965451
         },
         {
          "BUYER_COUNTY": "ORANGE",
          "DOSAGE_UNIT": 404900,
          "YEAR": "2008",
          "pop": 29032,
          "rate": 13.946679526040231
         },
         {
          "BUYER_COUNTY": "ORANGE",
          "DOSAGE_UNIT": 439300,
          "YEAR": "2009",
          "pop": 28965,
          "rate": 15.166580355601589
         },
         {
          "BUYER_COUNTY": "ORANGE",
          "DOSAGE_UNIT": 473810,
          "YEAR": "2010",
          "pop": 28947,
          "rate": 16.36819014060179
         },
         {
          "BUYER_COUNTY": "ORANGE",
          "DOSAGE_UNIT": 492810,
          "YEAR": "2011",
          "pop": 29018,
          "rate": 16.982907161072436
         },
         {
          "BUYER_COUNTY": "ORANGE",
          "DOSAGE_UNIT": 497240,
          "YEAR": "2012",
          "pop": 28917,
          "rate": 17.195421378427913
         },
         {
          "BUYER_COUNTY": "ORLEANS",
          "DOSAGE_UNIT": 679540,
          "YEAR": "2006",
          "pop": 27215,
          "rate": 24.969318390593422
         },
         {
          "BUYER_COUNTY": "ORLEANS",
          "DOSAGE_UNIT": 656590,
          "YEAR": "2007",
          "pop": 27332,
          "rate": 24.02275720766867
         },
         {
          "BUYER_COUNTY": "ORLEANS",
          "DOSAGE_UNIT": 679760,
          "YEAR": "2008",
          "pop": 27269,
          "rate": 24.92794015182075
         },
         {
          "BUYER_COUNTY": "ORLEANS",
          "DOSAGE_UNIT": 673320,
          "YEAR": "2009",
          "pop": 27234,
          "rate": 24.72350738048028
         },
         {
          "BUYER_COUNTY": "ORLEANS",
          "DOSAGE_UNIT": 698250,
          "YEAR": "2010",
          "pop": 27245,
          "rate": 25.628555698293265
         },
         {
          "BUYER_COUNTY": "ORLEANS",
          "DOSAGE_UNIT": 748500,
          "YEAR": "2011",
          "pop": 27191,
          "rate": 27.52749071383914
         },
         {
          "BUYER_COUNTY": "ORLEANS",
          "DOSAGE_UNIT": 798050,
          "YEAR": "2012",
          "pop": 27161,
          "rate": 29.382202422591217
         },
         {
          "BUYER_COUNTY": "RUTLAND",
          "DOSAGE_UNIT": 1444890,
          "YEAR": "2006",
          "pop": 62894,
          "rate": 22.973415588132415
         },
         {
          "BUYER_COUNTY": "RUTLAND",
          "DOSAGE_UNIT": 1626970,
          "YEAR": "2007",
          "pop": 62618,
          "rate": 25.9824651058801
         },
         {
          "BUYER_COUNTY": "RUTLAND",
          "DOSAGE_UNIT": 1634720,
          "YEAR": "2008",
          "pop": 62368,
          "rate": 26.2108773730118
         },
         {
          "BUYER_COUNTY": "RUTLAND",
          "DOSAGE_UNIT": 1698940,
          "YEAR": "2009",
          "pop": 61946,
          "rate": 27.426145352403708
         },
         {
          "BUYER_COUNTY": "RUTLAND",
          "DOSAGE_UNIT": 1743100,
          "YEAR": "2010",
          "pop": 61578,
          "rate": 28.307187631946473
         },
         {
          "BUYER_COUNTY": "RUTLAND",
          "DOSAGE_UNIT": 1708620,
          "YEAR": "2011",
          "pop": 61220,
          "rate": 27.90950669715779
         },
         {
          "BUYER_COUNTY": "RUTLAND",
          "DOSAGE_UNIT": 1622730,
          "YEAR": "2012",
          "pop": 60791,
          "rate": 26.693589511605335
         },
         {
          "BUYER_COUNTY": "WASHINGTON",
          "DOSAGE_UNIT": 1536760,
          "YEAR": "2006",
          "pop": 59414,
          "rate": 25.865284276433165
         },
         {
          "BUYER_COUNTY": "WASHINGTON",
          "DOSAGE_UNIT": 1607580,
          "YEAR": "2007",
          "pop": 59275,
          "rate": 27.120708561788273
         },
         {
          "BUYER_COUNTY": "WASHINGTON",
          "DOSAGE_UNIT": 1745730,
          "YEAR": "2008",
          "pop": 59278,
          "rate": 29.449880225378724
         },
         {
          "BUYER_COUNTY": "WASHINGTON",
          "DOSAGE_UNIT": 1839200,
          "YEAR": "2009",
          "pop": 59353,
          "rate": 30.987481677421528
         },
         {
          "BUYER_COUNTY": "WASHINGTON",
          "DOSAGE_UNIT": 1904890,
          "YEAR": "2010",
          "pop": 59569,
          "rate": 31.977874397757223
         },
         {
          "BUYER_COUNTY": "WASHINGTON",
          "DOSAGE_UNIT": 1914370,
          "YEAR": "2011",
          "pop": 59584,
          "rate": 32.12892722878625
         },
         {
          "BUYER_COUNTY": "WASHINGTON",
          "DOSAGE_UNIT": 1845700,
          "YEAR": "2012",
          "pop": 59405,
          "rate": 31.0697752714418
         },
         {
          "BUYER_COUNTY": "WINDHAM",
          "DOSAGE_UNIT": 1333400,
          "YEAR": "2006",
          "pop": 44390,
          "rate": 30.038296913719307
         },
         {
          "BUYER_COUNTY": "WINDHAM",
          "DOSAGE_UNIT": 1607510,
          "YEAR": "2007",
          "pop": 44444,
          "rate": 36.16933669336694
         },
         {
          "BUYER_COUNTY": "WINDHAM",
          "DOSAGE_UNIT": 1664870,
          "YEAR": "2008",
          "pop": 44407,
          "rate": 37.491161303398115
         },
         {
          "BUYER_COUNTY": "WINDHAM",
          "DOSAGE_UNIT": 1595910,
          "YEAR": "2009",
          "pop": 44441,
          "rate": 35.91075808375149
         },
         {
          "BUYER_COUNTY": "WINDHAM",
          "DOSAGE_UNIT": 1630910,
          "YEAR": "2010",
          "pop": 44505,
          "rate": 36.6455454443321
         },
         {
          "BUYER_COUNTY": "WINDHAM",
          "DOSAGE_UNIT": 1654910,
          "YEAR": "2011",
          "pop": 44239,
          "rate": 37.408395307308034
         },
         {
          "BUYER_COUNTY": "WINDHAM",
          "DOSAGE_UNIT": 1572570,
          "YEAR": "2012",
          "pop": 43998,
          "rate": 35.7418519023592
         },
         {
          "BUYER_COUNTY": "WINDSOR",
          "DOSAGE_UNIT": 1084700,
          "YEAR": "2006",
          "pop": 57184,
          "rate": 18.96859261331841
         },
         {
          "BUYER_COUNTY": "WINDSOR",
          "DOSAGE_UNIT": 1282740,
          "YEAR": "2007",
          "pop": 57061,
          "rate": 22.480152818913094
         },
         {
          "BUYER_COUNTY": "WINDSOR",
          "DOSAGE_UNIT": 1266960,
          "YEAR": "2008",
          "pop": 56850,
          "rate": 22.286015831134566
         },
         {
          "BUYER_COUNTY": "WINDSOR",
          "DOSAGE_UNIT": 1256050,
          "YEAR": "2009",
          "pop": 56708,
          "rate": 22.149432178881288
         },
         {
          "BUYER_COUNTY": "WINDSOR",
          "DOSAGE_UNIT": 1278230,
          "YEAR": "2010",
          "pop": 56602,
          "rate": 22.582770926822374
         },
         {
          "BUYER_COUNTY": "WINDSOR",
          "DOSAGE_UNIT": 1373650,
          "YEAR": "2011",
          "pop": 56605,
          "rate": 24.267290875364367
         },
         {
          "BUYER_COUNTY": "WINDSOR",
          "DOSAGE_UNIT": 1356730,
          "YEAR": "2012",
          "pop": 56134,
          "rate": 24.169487298250615
         }
        ]
       },
       "encoding": {
        "facet": {
         "field": "BUYER_COUNTY",
         "type": "nominal"
        },
        "tooltip": [
         {
          "field": "YEAR",
          "type": "nominal"
         },
         {
          "field": "DOSAGE_UNIT",
          "type": "quantitative"
         },
         {
          "field": "rate",
          "type": "quantitative"
         }
        ],
        "x": {
         "field": "YEAR",
         "type": "ordinal"
        },
        "y": {
         "axis": {
          "title": "pills per person"
         },
         "field": "rate",
         "type": "quantitative"
        }
       },
       "height": 100,
       "mark": "bar",
       "width": 100
      },
      "image/png": "[encoded data removed]",
      "text/plain": [
       "<VegaLite 3 object>\n",
       "\n",
       "If you see this message, it means the renderer has not been properly enabled\n",
       "for the frontend that you are using. For more information, see\n",
       "https://altair-viz.github.io/user_guide/troubleshooting.html\n"
      ]
     },
     "execution_count": 26,
     "metadata": {},
     "output_type": "execute_result"
    }
   ],
   "source": [
    "county_rate_facet = alt.Chart(arcosvt_annual_county).mark_bar().encode(\n",
    "    x=\"YEAR:O\",\n",
    "    y=alt.Y(\"rate\",axis=alt.Axis(title='pills per person')),\n",
    "    facet=\"BUYER_COUNTY:N\",\n",
    "#     color=alt.Color(\"BUYER_COUNTY:N\", legend=None),\n",
    "    tooltip=[\"YEAR\",\"DOSAGE_UNIT\",\"rate\"]\n",
    ").properties(\n",
    "    width=100,\n",
    "    height=100,\n",
    "    columns=7,\n",
    ")\n",
    "\n",
    "county_rate_facet"
   ]
  },
  {
   "cell_type": "markdown",
   "metadata": {},
   "source": [
    "We're already seeing that Essex and Grand Isle are extremely low. One of the things to note about this dataset is that it reflects where the pharmacies and doctor's offices are located, not that the people in those counties were not filling prescriptions for opioids. In very low-population counties, folks are likely heading elsewhere to fill prescriptions. For example, there were no pharmacies ordering opioids in Essex County in this dataset — just a health center and a veterinarian's office."
   ]
  },
  {
   "cell_type": "code",
   "execution_count": 27,
   "metadata": {},
   "outputs": [
    {
     "data": {
      "text/plain": [
       "array(['ISLAND POND HEALTH CENTER', 'EAST HAVEN VETERINARY SERVICE'],\n",
       "      dtype=object)"
      ]
     },
     "execution_count": 27,
     "metadata": {},
     "output_type": "execute_result"
    }
   ],
   "source": [
    "arcosvt[arcosvt[\"BUYER_COUNTY\"]==\"ESSEX\"][\"BUYER_ADDL_CO_INFO\"].unique()"
   ]
  },
  {
   "cell_type": "markdown",
   "metadata": {},
   "source": [
    "Similarly, in Grand Isle County, there's just one buyer — a pharmacy — but since the islands are very close to Franklin and Chittenden County, people are likely heading to doctors and pharmacies outside of their county."
   ]
  },
  {
   "cell_type": "code",
   "execution_count": 28,
   "metadata": {},
   "outputs": [
    {
     "data": {
      "text/plain": [
       "array([\"DBA MCGREGOR'S SOUTH HERO PHCY\"], dtype=object)"
      ]
     },
     "execution_count": 28,
     "metadata": {},
     "output_type": "execute_result"
    }
   ],
   "source": [
    "arcosvt[arcosvt[\"BUYER_COUNTY\"]==\"GRAND ISLE\"][\"BUYER_ADDRESS1\"].unique()"
   ]
  },
  {
   "cell_type": "markdown",
   "metadata": {},
   "source": [
    "Let's create one more county summary showing average annual pills purchased and average annual rate (pills per person)."
   ]
  },
  {
   "cell_type": "code",
   "execution_count": 29,
   "metadata": {},
   "outputs": [
    {
     "data": {
      "text/html": [
       "<div>\n",
       "<style scoped>\n",
       "    .dataframe tbody tr th:only-of-type {\n",
       "        vertical-align: middle;\n",
       "    }\n",
       "\n",
       "    .dataframe tbody tr th {\n",
       "        vertical-align: top;\n",
       "    }\n",
       "\n",
       "    .dataframe thead th {\n",
       "        text-align: right;\n",
       "    }\n",
       "</style>\n",
       "<table border=\"1\" class=\"dataframe\">\n",
       "  <thead>\n",
       "    <tr style=\"text-align: right;\">\n",
       "      <th></th>\n",
       "      <th>BUYER_COUNTY</th>\n",
       "      <th>DOSAGE_UNIT</th>\n",
       "      <th>rate</th>\n",
       "    </tr>\n",
       "  </thead>\n",
       "  <tbody>\n",
       "    <tr>\n",
       "      <th>12</th>\n",
       "      <td>WINDHAM</td>\n",
       "      <td>1,580,011.43</td>\n",
       "      <td>35.63</td>\n",
       "    </tr>\n",
       "    <tr>\n",
       "      <th>5</th>\n",
       "      <td>FRANKLIN</td>\n",
       "      <td>1,592,529.29</td>\n",
       "      <td>33.34</td>\n",
       "    </tr>\n",
       "    <tr>\n",
       "      <th>1</th>\n",
       "      <td>BENNINGTON</td>\n",
       "      <td>1,149,341.43</td>\n",
       "      <td>31.06</td>\n",
       "    </tr>\n",
       "    <tr>\n",
       "      <th>7</th>\n",
       "      <td>LAMOILLE</td>\n",
       "      <td>732,095.71</td>\n",
       "      <td>30.14</td>\n",
       "    </tr>\n",
       "    <tr>\n",
       "      <th>11</th>\n",
       "      <td>WASHINGTON</td>\n",
       "      <td>1,770,604.29</td>\n",
       "      <td>29.80</td>\n",
       "    </tr>\n",
       "    <tr>\n",
       "      <th>3</th>\n",
       "      <td>CHITTENDEN</td>\n",
       "      <td>4,442,314.00</td>\n",
       "      <td>28.50</td>\n",
       "    </tr>\n",
       "    <tr>\n",
       "      <th>2</th>\n",
       "      <td>CALEDONIA</td>\n",
       "      <td>844,792.86</td>\n",
       "      <td>27.11</td>\n",
       "    </tr>\n",
       "    <tr>\n",
       "      <th>10</th>\n",
       "      <td>RUTLAND</td>\n",
       "      <td>1,639,995.71</td>\n",
       "      <td>26.50</td>\n",
       "    </tr>\n",
       "    <tr>\n",
       "      <th>9</th>\n",
       "      <td>ORLEANS</td>\n",
       "      <td>704,858.57</td>\n",
       "      <td>25.88</td>\n",
       "    </tr>\n",
       "    <tr>\n",
       "      <th>0</th>\n",
       "      <td>ADDISON</td>\n",
       "      <td>833,248.57</td>\n",
       "      <td>22.60</td>\n",
       "    </tr>\n",
       "    <tr>\n",
       "      <th>13</th>\n",
       "      <td>WINDSOR</td>\n",
       "      <td>1,271,294.29</td>\n",
       "      <td>22.41</td>\n",
       "    </tr>\n",
       "    <tr>\n",
       "      <th>8</th>\n",
       "      <td>ORANGE</td>\n",
       "      <td>441,551.43</td>\n",
       "      <td>15.21</td>\n",
       "    </tr>\n",
       "    <tr>\n",
       "      <th>6</th>\n",
       "      <td>GRAND ISLE</td>\n",
       "      <td>56,015.71</td>\n",
       "      <td>7.94</td>\n",
       "    </tr>\n",
       "    <tr>\n",
       "      <th>4</th>\n",
       "      <td>ESSEX</td>\n",
       "      <td>10,028.57</td>\n",
       "      <td>1.58</td>\n",
       "    </tr>\n",
       "  </tbody>\n",
       "</table>\n",
       "</div>"
      ],
      "text/plain": [
       "   BUYER_COUNTY  DOSAGE_UNIT  rate\n",
       "12      WINDHAM 1,580,011.43 35.63\n",
       "5      FRANKLIN 1,592,529.29 33.34\n",
       "1    BENNINGTON 1,149,341.43 31.06\n",
       "7      LAMOILLE   732,095.71 30.14\n",
       "11   WASHINGTON 1,770,604.29 29.80\n",
       "3    CHITTENDEN 4,442,314.00 28.50\n",
       "2     CALEDONIA   844,792.86 27.11\n",
       "10      RUTLAND 1,639,995.71 26.50\n",
       "9       ORLEANS   704,858.57 25.88\n",
       "0       ADDISON   833,248.57 22.60\n",
       "13      WINDSOR 1,271,294.29 22.41\n",
       "8        ORANGE   441,551.43 15.21\n",
       "6    GRAND ISLE    56,015.71  7.94\n",
       "4         ESSEX    10,028.57  1.58"
      ]
     },
     "execution_count": 29,
     "metadata": {},
     "output_type": "execute_result"
    }
   ],
   "source": [
    "arcosvt_county_rate = arcosvt_annual_county[[\n",
    "    \"BUYER_COUNTY\",\"DOSAGE_UNIT\",\"rate\"\n",
    "]].groupby(\"BUYER_COUNTY\").mean().reset_index()\n",
    "arcosvt_county_rate.sort_values(\"rate\",ascending=False)"
   ]
  },
  {
   "cell_type": "markdown",
   "metadata": {},
   "source": [
    "## Statewide rates\n",
    "\n",
    "OK, let's zoom out again and get a statewide annual rate - pills per Vermonter per year."
   ]
  },
  {
   "cell_type": "code",
   "execution_count": 30,
   "metadata": {},
   "outputs": [
    {
     "data": {
      "text/html": [
       "<div>\n",
       "<style scoped>\n",
       "    .dataframe tbody tr th:only-of-type {\n",
       "        vertical-align: middle;\n",
       "    }\n",
       "\n",
       "    .dataframe tbody tr th {\n",
       "        vertical-align: top;\n",
       "    }\n",
       "\n",
       "    .dataframe thead th {\n",
       "        text-align: right;\n",
       "    }\n",
       "</style>\n",
       "<table border=\"1\" class=\"dataframe\">\n",
       "  <thead>\n",
       "    <tr style=\"text-align: right;\">\n",
       "      <th></th>\n",
       "      <th>YEAR</th>\n",
       "      <th>DOSAGE_UNIT</th>\n",
       "      <th>pop</th>\n",
       "      <th>rate</th>\n",
       "    </tr>\n",
       "  </thead>\n",
       "  <tbody>\n",
       "    <tr>\n",
       "      <th>0</th>\n",
       "      <td>2006</td>\n",
       "      <td>14,625,240.00</td>\n",
       "      <td>622892</td>\n",
       "      <td>23.48</td>\n",
       "    </tr>\n",
       "    <tr>\n",
       "      <th>1</th>\n",
       "      <td>2007</td>\n",
       "      <td>16,421,740.00</td>\n",
       "      <td>623481</td>\n",
       "      <td>26.34</td>\n",
       "    </tr>\n",
       "    <tr>\n",
       "      <th>2</th>\n",
       "      <td>2008</td>\n",
       "      <td>17,012,940.00</td>\n",
       "      <td>624151</td>\n",
       "      <td>27.26</td>\n",
       "    </tr>\n",
       "    <tr>\n",
       "      <th>3</th>\n",
       "      <td>2009</td>\n",
       "      <td>17,552,265.00</td>\n",
       "      <td>624817</td>\n",
       "      <td>28.09</td>\n",
       "    </tr>\n",
       "    <tr>\n",
       "      <th>4</th>\n",
       "      <td>2010</td>\n",
       "      <td>17,919,788.00</td>\n",
       "      <td>625880</td>\n",
       "      <td>28.63</td>\n",
       "    </tr>\n",
       "    <tr>\n",
       "      <th>5</th>\n",
       "      <td>2011</td>\n",
       "      <td>18,230,230.00</td>\n",
       "      <td>626979</td>\n",
       "      <td>29.08</td>\n",
       "    </tr>\n",
       "    <tr>\n",
       "      <th>6</th>\n",
       "      <td>2012</td>\n",
       "      <td>17,718,570.00</td>\n",
       "      <td>626063</td>\n",
       "      <td>28.30</td>\n",
       "    </tr>\n",
       "  </tbody>\n",
       "</table>\n",
       "</div>"
      ],
      "text/plain": [
       "   YEAR   DOSAGE_UNIT     pop  rate\n",
       "0  2006 14,625,240.00  622892 23.48\n",
       "1  2007 16,421,740.00  623481 26.34\n",
       "2  2008 17,012,940.00  624151 27.26\n",
       "3  2009 17,552,265.00  624817 28.09\n",
       "4  2010 17,919,788.00  625880 28.63\n",
       "5  2011 18,230,230.00  626979 29.08\n",
       "6  2012 17,718,570.00  626063 28.30"
      ]
     },
     "execution_count": 30,
     "metadata": {},
     "output_type": "execute_result"
    }
   ],
   "source": [
    "arcosvt_annual_rate = arcosvt_annual_county[[\"YEAR\",\"DOSAGE_UNIT\",\"pop\"]].groupby(\"YEAR\").sum().reset_index()\n",
    "arcosvt_annual_rate[\"rate\"] = arcosvt_annual_rate[\"DOSAGE_UNIT\"]/arcosvt_annual_rate[\"pop\"]\n",
    "\n",
    "arcosvt_annual_rate"
   ]
  },
  {
   "cell_type": "markdown",
   "metadata": {},
   "source": [
    "What's the annual average pills per person sold into Vermont?"
   ]
  },
  {
   "cell_type": "code",
   "execution_count": 31,
   "metadata": {},
   "outputs": [
    {
     "data": {
      "text/plain": [
       "27.311025609245398"
      ]
     },
     "execution_count": 31,
     "metadata": {},
     "output_type": "execute_result"
    }
   ],
   "source": [
    "arcosvt_annual_rate[\"rate\"].mean()"
   ]
  },
  {
   "cell_type": "markdown",
   "metadata": {},
   "source": [
    "How about the total pills per person over all seven years?"
   ]
  },
  {
   "cell_type": "code",
   "execution_count": 32,
   "metadata": {},
   "outputs": [
    {
     "data": {
      "text/plain": [
       "191.17717926471778"
      ]
     },
     "execution_count": 32,
     "metadata": {},
     "output_type": "execute_result"
    }
   ],
   "source": [
    "arcosvt_annual_rate[\"rate\"].sum()"
   ]
  },
  {
   "cell_type": "markdown",
   "metadata": {},
   "source": [
    "And that's a wrap. This is a top-level analysis, and we'll be digging deeper into the numbers in the coming days and weeks. Got any questions about this analysis? Found something interesting that's not in here? Drop me a line at [andrea@sevendaysvt.com](mailto:andrea@sevendaysvt.com)!"
   ]
  },
  {
   "cell_type": "code",
   "execution_count": null,
   "metadata": {},
   "outputs": [],
   "source": []
  }
 ],
 "metadata": {
  "kernelspec": {
   "display_name": "Python 3",
   "language": "python",
   "name": "python3"
  },
  "language_info": {
   "codemirror_mode": {
    "name": "ipython",
    "version": 3
   },
   "file_extension": ".py",
   "mimetype": "text/x-python",
   "name": "python",
   "nbconvert_exporter": "python",
   "pygments_lexer": "ipython3",
   "version": "3.7.1"
  }
 },
 "nbformat": 4,
 "nbformat_minor": 4
}
